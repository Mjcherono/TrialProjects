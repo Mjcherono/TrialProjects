{
  "nbformat": 4,
  "nbformat_minor": 0,
  "metadata": {
    "colab": {
      "name": "Copy of Python Programming: Quantile Regression",
      "provenance": [],
      "collapsed_sections": [],
      "include_colab_link": true
    },
    "kernelspec": {
      "name": "python3",
      "display_name": "Python 3"
    }
  },
  "cells": [
    {
      "cell_type": "markdown",
      "metadata": {
        "id": "view-in-github",
        "colab_type": "text"
      },
      "source": [
        "<a href=\"https://colab.research.google.com/github/Mjcherono/TrialProjects/blob/main/Copy_of_Python_Programming_Quantile_Regression.ipynb\" target=\"_parent\"><img src=\"https://colab.research.google.com/assets/colab-badge.svg\" alt=\"Open In Colab\"/></a>"
      ]
    },
    {
      "cell_type": "markdown",
      "metadata": {
        "id": "WHZ_wPykNS8b"
      },
      "source": [
        "# Python Programming: Quantile Regression"
      ]
    },
    {
      "cell_type": "markdown",
      "metadata": {
        "id": "-ErMe12dSTP6"
      },
      "source": [
        "As we have seen, linear regression models make a key assumption about the random error term in the linear model. The assumption is that the error term has a constant variance across the values of independent variable X. However, when the assumption is no longer true, we use quantile regression. The following example will help us understand how we can use quantile regression while working on such a problem."
      ]
    },
    {
      "cell_type": "markdown",
      "metadata": {
        "id": "BcDf24f1UrL-"
      },
      "source": [
        "## Example: Quantile Regression"
      ]
    },
    {
      "cell_type": "code",
      "metadata": {
        "id": "-b0k35AwUsqt"
      },
      "source": [
        "# Importing the required libraries\n",
        "# \n",
        "import numpy as np \n",
        "import matplotlib.pyplot as plt "
      ],
      "execution_count": null,
      "outputs": []
    },
    {
      "cell_type": "code",
      "metadata": {
        "id": "d2rPspq1VToj",
        "colab": {
          "base_uri": "https://localhost:8080/",
          "height": 312
        },
        "outputId": "b43495c5-c19a-41ec-b4e0-f7ebd88dfd12"
      },
      "source": [
        "## Generating some data with constant variance /noise\n",
        "# This is the assumption of linear regression\n",
        "# \n",
        "x = np.arange(100).reshape(100,1)\n",
        "intercept_ = 6\n",
        "slope_ = 0.1\n",
        "\n",
        "## non constant error\n",
        "error_ = np.random.normal(size = (100,1), loc = 0.0, scale = 1)\n",
        "\n",
        "## Regression equation\n",
        "y = intercept_ + slope_ * x + error_\n",
        "\n",
        "plt.figure(1)\n",
        "plt.scatter(x, y)\n",
        "plt.xlabel(\"x\")\n",
        "plt.ylabel(\"y\")\n",
        "plt.title(\"Data with constant variance\")\n",
        "\n",
        "# When we move from left to right along the x-axis, \n",
        "# we won’t see a lot of variation in the values of y. \n",
        "# An linear regression would be the ideal candidate \n",
        "# here to model the data."
      ],
      "execution_count": null,
      "outputs": [
        {
          "output_type": "execute_result",
          "data": {
            "text/plain": [
              "Text(0.5, 1.0, 'Data with constant variance')"
            ]
          },
          "metadata": {
            "tags": []
          },
          "execution_count": 13
        },
        {
          "output_type": "display_data",
          "data": {
            "image/png": "[encoded data removed]",
            "text/plain": [
              "<Figure size 432x288 with 1 Axes>"
            ]
          },
          "metadata": {
            "tags": [],
            "needs_background": "light"
          }
        }
      ]
    },
    {
      "cell_type": "code",
      "metadata": {
        "id": "-5tnAc82VZm5",
        "colab": {
          "base_uri": "https://localhost:8080/"
        },
        "outputId": "018efc89-23f1-4e36-ab0d-8b891ca46956"
      },
      "source": [
        "## Creating a linear regression model regression on the above dataset\n",
        "#\n",
        "from sklearn.linear_model import LinearRegression\n",
        "\n",
        "model1 = LinearRegression(fit_intercept = True, normalize = False)\n",
        "model1.fit(x, y)\n",
        "\n",
        "y_pred1 = model1.predict(x)\n",
        "\n",
        "print(\"Mean squared error: {0:.2f}\"\n",
        "      .format(np.mean((y_pred1 - y) ** 2)))\n",
        "print('Variance score: {0:.2f}'.format(model1.score(x, y)))\n"
      ],
      "execution_count": null,
      "outputs": [
        {
          "output_type": "stream",
          "text": [
            "Mean squared error: 1.37\n",
            "Variance score: 0.87\n"
          ],
          "name": "stdout"
        }
      ]
    },
    {
      "cell_type": "code",
      "metadata": {
        "id": "Ijz5Y55TWnTJ",
        "colab": {
          "base_uri": "https://localhost:8080/",
          "height": 295
        },
        "outputId": "5d2b2918-c1da-463b-8fd2-f8625c31921c"
      },
      "source": [
        "## Plotting the regression\n",
        "plt.figure(2)\n",
        "plt.scatter(x, y,  color='black')\n",
        "plt.plot(x, y_pred1, color='blue',\n",
        "         linewidth=3)\n",
        "\n",
        "plt.xticks(())\n",
        "plt.yticks(())\n",
        "plt.xlabel(\"x\")\n",
        "plt.ylabel(\"y and predicted y\")\n",
        "plt.title(\"Linear regression\")\n",
        "\n",
        "# This will lead to us having modeled our data well on our dataset.\n",
        "# Our variance score of 0.88 is close to 1 which usually is when\n",
        "# we model our data perfectly. \n",
        "# NB: our variance score will vary based on the randomly generated values above"
      ],
      "execution_count": null,
      "outputs": [
        {
          "output_type": "execute_result",
          "data": {
            "text/plain": [
              "Text(0.5, 1.0, 'Linear regression')"
            ]
          },
          "metadata": {
            "tags": []
          },
          "execution_count": 15
        },
        {
          "output_type": "display_data",
          "data": {
            "image/png": "[encoded data removed]",
            "text/plain": [
              "<Figure size 432x288 with 1 Axes>"
            ]
          },
          "metadata": {
            "tags": []
          }
        }
      ]
    },
    {
      "cell_type": "code",
      "metadata": {
        "id": "PiPAlrzKVgUz",
        "colab": {
          "base_uri": "https://localhost:8080/",
          "height": 312
        },
        "outputId": "c05a66da-3c29-4806-8b7a-ab4f07a505a4"
      },
      "source": [
        "## Now let get to work with some data that violates \n",
        "# our linear regression assumption. This means first \n",
        "# adding some noise to our dataset. \n",
        "# We will first generating some data with non-constant variance\n",
        "# \n",
        "x_ = np.arange(100).reshape(100,1)\n",
        "intercept_ = 6\n",
        "slope_ = 0.1\n",
        "\n",
        "## Non constant variance\n",
        "var_ = 0.1 + 0.05 * x_\n",
        "\n",
        "## non constant error\n",
        "error_ = np.random.normal(size = (100,1), loc = 0.0, scale = var_)\n",
        "\n",
        "## Linear egression equation\n",
        "y_ = intercept_ + slope_ * x + error_\n",
        "\n",
        "plt.figure(3)\n",
        "plt.scatter(x_, y_)\n",
        "plt.xlabel(\"x\")\n",
        "plt.ylabel(\"y\")\n",
        "plt.title(\"Data with non-constant variance\")\n",
        "\n",
        "# From our graph, we will get to see that a phenomenon\n",
        "# where the variability of y is unequal across the range \n",
        "# of values of x is called as Heteroscedasticity. \n",
        "# As it will be seen in the plot it takes the shape of a cone. \n",
        "# The y variable widens as the value of x increases."
      ],
      "execution_count": null,
      "outputs": [
        {
          "output_type": "execute_result",
          "data": {
            "text/plain": [
              "Text(0.5, 1.0, 'Data with non-constant variance')"
            ]
          },
          "metadata": {
            "tags": []
          },
          "execution_count": 16
        },
        {
          "output_type": "display_data",
          "data": {
            "image/png": "[encoded data removed]",
            "text/plain": [
              "<Figure size 432x288 with 1 Axes>"
            ]
          },
          "metadata": {
            "tags": [],
            "needs_background": "light"
          }
        }
      ]
    },
    {
      "cell_type": "code",
      "metadata": {
        "id": "AuWvBT5aVsRn",
        "colab": {
          "base_uri": "https://localhost:8080/"
        },
        "outputId": "e846f475-54e3-46fc-8bd4-5e6f33dd9650"
      },
      "source": [
        "## Let's now trying to fit a linear regression\n",
        "# \n",
        "model2 = LinearRegression(fit_intercept = True, normalize = False)\n",
        "model2.fit(x_, y_)\n",
        "\n",
        "y_pred2 = model2.predict(x_)\n",
        "\n",
        "print\n",
        "print(\"Mean squared error: {0:.2f}\"\n",
        "      .format(np.mean((y_pred2 - y_) ** 2)))\n",
        "print('Variance score: {0:.2f}'.format(model1.score(x_, y_)))\n",
        "\n",
        "# With a low variance score of 0.51, it means that our linear regression \n",
        "# did not do a good job. "
      ],
      "execution_count": null,
      "outputs": [
        {
          "output_type": "stream",
          "text": [
            "Mean squared error: 8.34\n",
            "Variance score: 0.49\n"
          ],
          "name": "stdout"
        }
      ]
    },
    {
      "cell_type": "code",
      "metadata": {
        "id": "qWScml7qV2zN",
        "colab": {
          "base_uri": "https://localhost:8080/",
          "height": 295
        },
        "outputId": "ddf97fcb-5d4f-4679-a23c-bd9d8202038a"
      },
      "source": [
        "## We can also see this by plotting the regression below\n",
        "#\n",
        "plt.figure(4)\n",
        "plt.scatter(x_, y_,  color='black')\n",
        "plt.plot(x_, y_pred2, color='blue',\n",
        "         linewidth=3)\n",
        "\n",
        "plt.xticks(())\n",
        "plt.yticks(())\n",
        "plt.xlabel(\"x\")\n",
        "plt.ylabel(\"y and predicted y\")\n",
        "plt.title(\"Linear regression on data with non-constant variance\")\n",
        "\n",
        "# We will get to observe that our line of best fit is far from perfect"
      ],
      "execution_count": null,
      "outputs": [
        {
          "output_type": "execute_result",
          "data": {
            "text/plain": [
              "Text(0.5, 1.0, 'Linear regression on data with non-constant variance')"
            ]
          },
          "metadata": {
            "tags": []
          },
          "execution_count": 18
        },
        {
          "output_type": "display_data",
          "data": {
            "image/png": "[encoded data removed]",
            "text/plain": [
              "<Figure size 432x288 with 1 Axes>"
            ]
          },
          "metadata": {
            "tags": []
          }
        }
      ]
    },
    {
      "cell_type": "code",
      "metadata": {
        "id": "tdT2DaUSV9s7",
        "colab": {
          "base_uri": "https://localhost:8080/",
          "height": 204
        },
        "outputId": "3b656786-a4a4-4f6e-da7f-f730c2cd8cc3"
      },
      "source": [
        "# Now implementing quantile regression for the median, 0.5th quantile\n",
        "#\n",
        "\n",
        "# We import the required libraries\n",
        "#  \n",
        "import pandas as pd \n",
        "\n",
        "# We take the data into a pandas dataframe so that \n",
        "# its easier for us to work with statsmodel interfaces. \n",
        "# Our dataframe data has two columns, ‘x’ and ‘y’\n",
        "#\n",
        "data = pd.DataFrame(data = np.hstack([x_, y_]), columns = [\"x\", \"y\"])\n",
        "data.head()"
      ],
      "execution_count": null,
      "outputs": [
        {
          "output_type": "execute_result",
          "data": {
            "text/html": [
              "<div>\n",
              "<style scoped>\n",
              "    .dataframe tbody tr th:only-of-type {\n",
              "        vertical-align: middle;\n",
              "    }\n",
              "\n",
              "    .dataframe tbody tr th {\n",
              "        vertical-align: top;\n",
              "    }\n",
              "\n",
              "    .dataframe thead th {\n",
              "        text-align: right;\n",
              "    }\n",
              "</style>\n",
              "<table border=\"1\" class=\"dataframe\">\n",
              "  <thead>\n",
              "    <tr style=\"text-align: right;\">\n",
              "      <th></th>\n",
              "      <th>x</th>\n",
              "      <th>y</th>\n",
              "    </tr>\n",
              "  </thead>\n",
              "  <tbody>\n",
              "    <tr>\n",
              "      <th>0</th>\n",
              "      <td>0.0</td>\n",
              "      <td>6.075236</td>\n",
              "    </tr>\n",
              "    <tr>\n",
              "      <th>1</th>\n",
              "      <td>1.0</td>\n",
              "      <td>6.194199</td>\n",
              "    </tr>\n",
              "    <tr>\n",
              "      <th>2</th>\n",
              "      <td>2.0</td>\n",
              "      <td>6.252956</td>\n",
              "    </tr>\n",
              "    <tr>\n",
              "      <th>3</th>\n",
              "      <td>3.0</td>\n",
              "      <td>6.769093</td>\n",
              "    </tr>\n",
              "    <tr>\n",
              "      <th>4</th>\n",
              "      <td>4.0</td>\n",
              "      <td>6.796561</td>\n",
              "    </tr>\n",
              "  </tbody>\n",
              "</table>\n",
              "</div>"
            ],
            "text/plain": [
              "     x         y\n",
              "0  0.0  6.075236\n",
              "1  1.0  6.194199\n",
              "2  2.0  6.252956\n",
              "3  3.0  6.769093\n",
              "4  4.0  6.796561"
            ]
          },
          "metadata": {
            "tags": []
          },
          "execution_count": 19
        }
      ]
    },
    {
      "cell_type": "code",
      "metadata": {
        "id": "xRAZMtNHhv13",
        "colab": {
          "base_uri": "https://localhost:8080/"
        },
        "outputId": "2bf56035-e03c-468f-ec91-af8e98b91665"
      },
      "source": [
        "# We will use the python package statsmodels for Quantile Regression\n",
        "#\n",
        "import statsmodels.formula.api as smf\n",
        "\n",
        "# Finding the regression coefficients for the conditioned median, 0.5 quantile\n",
        "#\n",
        "mod = smf.quantreg('y ~ x', data)\n",
        "res = mod.fit(q=.5)\n",
        "\n",
        "# Then print out the summary of our model\n",
        "#\n",
        "print(res.summary())\n",
        "\n",
        "# You see that our intercept is 6.0978 and our slope or the coefficient for our x is 0.0976. \n",
        "# These are the parameters for the 0.5th quantile of our y. "
      ],
      "execution_count": null,
      "outputs": [
        {
          "output_type": "stream",
          "text": [
            "/usr/local/lib/python3.6/dist-packages/statsmodels/tools/_testing.py:19: FutureWarning: pandas.util.testing is deprecated. Use the functions in the public API at pandas.testing instead.\n",
            "  import pandas.util.testing as tm\n"
          ],
          "name": "stderr"
        },
        {
          "output_type": "stream",
          "text": [
            "                         QuantReg Regression Results                          \n",
            "==============================================================================\n",
            "Dep. Variable:                      y   Pseudo R-squared:               0.3780\n",
            "Model:                       QuantReg   Bandwidth:                       2.615\n",
            "Method:                 Least Squares   Sparsity:                        6.544\n",
            "Date:                Mon, 16 Nov 2020   No. Observations:                  100\n",
            "Time:                        14:58:30   Df Residuals:                       98\n",
            "                                        Df Model:                            1\n",
            "==============================================================================\n",
            "                 coef    std err          t      P>|t|      [0.025      0.975]\n",
            "------------------------------------------------------------------------------\n",
            "Intercept      5.8932      0.650      9.073      0.000       4.604       7.182\n",
            "x              0.0897      0.011      7.910      0.000       0.067       0.112\n",
            "==============================================================================\n"
          ],
          "name": "stdout"
        }
      ]
    },
    {
      "cell_type": "code",
      "metadata": {
        "id": "S5P4AV3LWCdn",
        "colab": {
          "base_uri": "https://localhost:8080/"
        },
        "outputId": "c17f83fd-6726-4b6f-b53a-6dad3dcfe284"
      },
      "source": [
        "## Similarly we can do the models for other quantiles\n",
        "# \n",
        "quantiles = np.arange(0.1,1,0.1) \n",
        "models = []\n",
        "params = []\n",
        "\n",
        "# We build models for each quantile in our list quantiles inside a for loop\n",
        "# As we build these models we also store the model parameters in a list called params. \n",
        "for qt in quantiles: \n",
        "\tres = mod.fit(q = qt )\n",
        "\tmodels.append(res)\n",
        "\tparams.append([qt, res.params['Intercept'], res.params['x']] + res.conf_int().loc['x'].tolist())\n",
        "\n",
        "# Lastly we make a dataframe of the same name, so we we can view our different models.\n",
        "params = pd.DataFrame(data = params, columns = ['qt', 'intercept', 'x_coef', 'cf_lower_bound', 'cf_upper_bound'])\n",
        "print(params)"
      ],
      "execution_count": null,
      "outputs": [
        {
          "output_type": "stream",
          "text": [
            "    qt  intercept    x_coef  cf_lower_bound  cf_upper_bound\n",
            "0  0.1   6.008859  0.022644        0.003097        0.042191\n",
            "1  0.2   5.879581  0.053095        0.034497        0.071693\n",
            "2  0.3   6.018523  0.063219        0.043975        0.082464\n",
            "3  0.4   5.821769  0.083125        0.062343        0.103906\n",
            "4  0.5   5.893200  0.089660        0.067165        0.112156\n",
            "5  0.6   5.773362  0.111462        0.088431        0.134493\n",
            "6  0.7   6.070044  0.124156        0.102099        0.146212\n",
            "7  0.8   6.114547  0.136225        0.114130        0.158320\n",
            "8  0.9   6.075236  0.156631        0.133496        0.179766\n"
          ],
          "name": "stdout"
        }
      ]
    },
    {
      "cell_type": "code",
      "metadata": {
        "id": "7e-ZymahWFq1",
        "colab": {
          "base_uri": "https://localhost:8080/",
          "height": 295
        },
        "outputId": "681f5acb-c21c-43ac-9f3c-e1fa61cd1d17"
      },
      "source": [
        "## Let us now plot 0.1th, 0.5th and 0.9th quantile models against our original data.\n",
        "# \n",
        "plt.figure(5)\n",
        "plt.scatter(x_, y_,  color='black')\n",
        "plt.plot(x_, y_pred2, color='blue',\n",
        "         linewidth=3, label='Lin Reg')\n",
        "\n",
        "y_pred3 = models[0].params['Intercept'] + models[0].params['x'] * x_\n",
        "plt.plot(x_, y_pred3, color='red',\n",
        "         linewidth=3, label='Q Reg : 0.1')\n",
        "\n",
        "y_pred4 = models[4].params['Intercept'] + models[4].params['x'] * x_\n",
        "plt.plot(x_, y_pred4, color='green',\n",
        "         linewidth=3, label='Q Reg : 0.5')\n",
        "\n",
        "\n",
        "y_pred5 = models[8].params['Intercept'] + models[8].params['x'] * x_\n",
        "plt.plot(x_, y_pred5, color='cyan',\n",
        "         linewidth=3, label='Q Reg : 0.9')\n",
        "\n",
        "plt.xticks(())\n",
        "plt.yticks(())\n",
        "plt.xlabel(\"x\")\n",
        "plt.ylabel(\"y and predicted y\")\n",
        "plt.title(\"Quantile regression on data with non-constant variance\")\n",
        "plt.legend()\n",
        "\n",
        "# Linear regression is plotted with the blue colored line. \n",
        "# We can compare that model with other quantile models."
      ],
      "execution_count": null,
      "outputs": [
        {
          "output_type": "execute_result",
          "data": {
            "text/plain": [
              "<matplotlib.legend.Legend at 0x7fd30464dcf8>"
            ]
          },
          "metadata": {
            "tags": []
          },
          "execution_count": 22
        },
        {
          "output_type": "display_data",
          "data": {
            "image/png": "[encoded data removed]",
            "text/plain": [
              "<Figure size 432x288 with 1 Axes>"
            ]
          },
          "metadata": {
            "tags": []
          }
        }
      ]
    },
    {
      "cell_type": "code",
      "metadata": {
        "id": "widCFKRRWKM-",
        "colab": {
          "base_uri": "https://localhost:8080/",
          "height": 312
        },
        "outputId": "e13e772a-9f2f-4a61-e03c-ab4077820f7e"
      },
      "source": [
        "## Plot the changes in the quantile coeffiecients\n",
        "# \n",
        "plt.figure(6)\n",
        "params.plot(x = 'qt', y = ['x_coef','cf_lower_bound', 'cf_upper_bound'], \n",
        "\ttitle = 'Slope for different quantiles', kind ='line', style = ['b-','r--','g--'])\n",
        "plt.show()\n",
        "\n",
        "# We would be able to see how the slope value varies for different quantiles. \n",
        "# Compared with linear regression which is flat across all the quantiles, \n",
        "# Quantile Regression allows us to investigate into the different areas of the data \n",
        "# and model them appropriately."
      ],
      "execution_count": null,
      "outputs": [
        {
          "output_type": "display_data",
          "data": {
            "text/plain": [
              "<Figure size 432x288 with 0 Axes>"
            ]
          },
          "metadata": {
            "tags": []
          }
        },
        {
          "output_type": "display_data",
          "data": {
            "image/png": "[encoded data removed]",
            "text/plain": [
              "<Figure size 432x288 with 1 Axes>"
            ]
          },
          "metadata": {
            "tags": [],
            "needs_background": "light"
          }
        }
      ]
    },
    {
      "cell_type": "markdown",
      "metadata": {
        "id": "lzkfunpKNXt9"
      },
      "source": [
        "## <font color=\"green\">Challenge 1</font>"
      ]
    },
    {
      "cell_type": "code",
      "metadata": {
        "id": "W6EUAQ3SNgYF",
        "colab": {
          "base_uri": "https://localhost:8080/",
          "height": 204
        },
        "outputId": "2ec171b1-48a0-459b-f38f-ec01aa2283fe"
      },
      "source": [
        "# Challenge 1\n",
        "# ---\n",
        "# Question: Study the factors that influence total medical expenditures for people with low-, medium-, and high- expenditures.\n",
        "# ---\n",
        "# Dataset url = http://bit.ly/QuantileHealthDataset\n",
        "# ---\n",
        "# Info:\n",
        "# Data are from the Medical Expenditure Panel Survey (MEPS)\n",
        "# Dependent variable: total medical expenditures\n",
        "# Independent variables: has supplemental insurance, total number of chronic conditions, age, female, and white\n",
        "# \n",
        "h = pd.read_csv('http://bit.ly/QuantileHealthDataset')\n",
        "h.head()"
      ],
      "execution_count": null,
      "outputs": [
        {
          "output_type": "execute_result",
          "data": {
            "text/html": [
              "<div>\n",
              "<style scoped>\n",
              "    .dataframe tbody tr th:only-of-type {\n",
              "        vertical-align: middle;\n",
              "    }\n",
              "\n",
              "    .dataframe tbody tr th {\n",
              "        vertical-align: top;\n",
              "    }\n",
              "\n",
              "    .dataframe thead th {\n",
              "        text-align: right;\n",
              "    }\n",
              "</style>\n",
              "<table border=\"1\" class=\"dataframe\">\n",
              "  <thead>\n",
              "    <tr style=\"text-align: right;\">\n",
              "      <th></th>\n",
              "      <th>dupersid</th>\n",
              "      <th>totexp</th>\n",
              "      <th>ltotexp</th>\n",
              "      <th>suppins</th>\n",
              "      <th>totchr</th>\n",
              "      <th>age</th>\n",
              "      <th>female</th>\n",
              "      <th>white</th>\n",
              "    </tr>\n",
              "  </thead>\n",
              "  <tbody>\n",
              "    <tr>\n",
              "      <th>0</th>\n",
              "      <td>93193020</td>\n",
              "      <td>3</td>\n",
              "      <td>1.098612</td>\n",
              "      <td>1</td>\n",
              "      <td>0</td>\n",
              "      <td>69</td>\n",
              "      <td>0</td>\n",
              "      <td>1</td>\n",
              "    </tr>\n",
              "    <tr>\n",
              "      <th>1</th>\n",
              "      <td>72072017</td>\n",
              "      <td>6</td>\n",
              "      <td>1.791759</td>\n",
              "      <td>1</td>\n",
              "      <td>0</td>\n",
              "      <td>65</td>\n",
              "      <td>1</td>\n",
              "      <td>1</td>\n",
              "    </tr>\n",
              "    <tr>\n",
              "      <th>2</th>\n",
              "      <td>25296013</td>\n",
              "      <td>9</td>\n",
              "      <td>2.197225</td>\n",
              "      <td>0</td>\n",
              "      <td>0</td>\n",
              "      <td>85</td>\n",
              "      <td>1</td>\n",
              "      <td>1</td>\n",
              "    </tr>\n",
              "    <tr>\n",
              "      <th>3</th>\n",
              "      <td>23628011</td>\n",
              "      <td>14</td>\n",
              "      <td>2.639057</td>\n",
              "      <td>0</td>\n",
              "      <td>0</td>\n",
              "      <td>76</td>\n",
              "      <td>1</td>\n",
              "      <td>1</td>\n",
              "    </tr>\n",
              "    <tr>\n",
              "      <th>4</th>\n",
              "      <td>95041014</td>\n",
              "      <td>18</td>\n",
              "      <td>2.890372</td>\n",
              "      <td>0</td>\n",
              "      <td>1</td>\n",
              "      <td>71</td>\n",
              "      <td>1</td>\n",
              "      <td>1</td>\n",
              "    </tr>\n",
              "  </tbody>\n",
              "</table>\n",
              "</div>"
            ],
            "text/plain": [
              "   dupersid  totexp   ltotexp  suppins  totchr  age  female  white\n",
              "0  93193020       3  1.098612        1       0   69       0      1\n",
              "1  72072017       6  1.791759        1       0   65       1      1\n",
              "2  25296013       9  2.197225        0       0   85       1      1\n",
              "3  23628011      14  2.639057        0       0   76       1      1\n",
              "4  95041014      18  2.890372        0       1   71       1      1"
            ]
          },
          "metadata": {
            "tags": []
          },
          "execution_count": 32
        }
      ]
    },
    {
      "cell_type": "code",
      "metadata": {
        "id": "ikI3-l7ISmp2",
        "colab": {
          "base_uri": "https://localhost:8080/"
        },
        "outputId": "6dcef1b9-b41a-4976-e04c-6b083ecc3e63"
      },
      "source": [
        "#\n",
        "x_c1 = h.drop(['totexp'], axis=1)\n",
        "y_c1 = h['totexp']\n",
        "\n",
        "print(x_c1)\n",
        "print(y_c1)\n",
        "\n",
        "import statsmodels.formula.api as smf\n",
        "\n",
        "# Finding the regression coefficients for the conditioned median, 0.5 quantile\n",
        "#\n",
        "mod = smf.quantreg('y_c1 ~ x_c1', h)\n",
        "res = mod.fit(q=.5)\n",
        "\n",
        "# Then print out the summary of our model\n",
        "#\n",
        "print(res.summary())"
      ],
      "execution_count": null,
      "outputs": [
        {
          "output_type": "stream",
          "text": [
            "      dupersid    ltotexp  suppins  totchr  age  female  white\n",
            "0     93193020   1.098612        1       0   69       0      1\n",
            "1     72072017   1.791759        1       0   65       1      1\n",
            "2     25296013   2.197225        0       0   85       1      1\n",
            "3     23628011   2.639057        0       0   76       1      1\n",
            "4     95041014   2.890372        0       1   71       1      1\n",
            "...        ...        ...      ...     ...  ...     ...    ...\n",
            "2950  26147015  11.535690        1       4   80       1      1\n",
            "2951  21857010  11.560030        0       2   69       1      1\n",
            "2952  93171014  11.592250        1       1   65       0      1\n",
            "2953  90613022  11.724890        1       3   66       1      1\n",
            "2954  91755011  11.740940        1       3   84       1      1\n",
            "\n",
            "[2955 rows x 7 columns]\n",
            "0            3\n",
            "1            6\n",
            "2            9\n",
            "3           14\n",
            "4           18\n",
            "         ...  \n",
            "2950    102303\n",
            "2951    104823\n",
            "2952    108256\n",
            "2953    123611\n",
            "2954    125610\n",
            "Name: totexp, Length: 2955, dtype: int64\n",
            "                         QuantReg Regression Results                          \n",
            "==============================================================================\n",
            "Dep. Variable:                   y_c1   Pseudo R-squared:             0.004083\n",
            "Model:                       QuantReg   Bandwidth:                       1536.\n",
            "Method:                 Least Squares   Sparsity:                        9851.\n",
            "Date:                Mon, 16 Nov 2020   No. Observations:                 2955\n",
            "Time:                        16:49:54   Df Residuals:                     2947\n",
            "                                        Df Model:                            7\n",
            "==============================================================================\n",
            "                 coef    std err          t      P>|t|      [0.025      0.975]\n",
            "------------------------------------------------------------------------------\n",
            "Intercept      0.5068      0.032     15.732      0.000       0.444       0.570\n",
            "x_c1[0]     4.918e-06   2.61e-06      1.884      0.060   -1.99e-07       1e-05\n",
            "x_c1[1]        4.0818      0.260     15.688      0.000       3.572       4.592\n",
            "x_c1[2]        0.5375      0.019     27.659      0.000       0.499       0.576\n",
            "x_c1[3]        0.9678      0.063     15.282      0.000       0.844       1.092\n",
            "x_c1[4]       40.6616      2.469     16.467      0.000      35.820      45.503\n",
            "x_c1[5]        0.1291      0.019      6.703      0.000       0.091       0.167\n",
            "x_c1[6]        0.4840      0.032     15.347      0.000       0.422       0.546\n",
            "==============================================================================\n",
            "\n",
            "The condition number is large, 1.02e+09. This might indicate that there are\n",
            "strong multicollinearity or other numerical problems.\n"
          ],
          "name": "stdout"
        },
        {
          "output_type": "stream",
          "text": [
            "/usr/local/lib/python3.6/dist-packages/statsmodels/regression/quantile_regression.py:192: IterationLimitWarning: Maximum number of iterations (1000) reached.\n",
            "  \") reached.\", IterationLimitWarning)\n"
          ],
          "name": "stderr"
        }
      ]
    },
    {
      "cell_type": "code",
      "metadata": {
        "id": "xvZZxl65nr4S",
        "colab": {
          "base_uri": "https://localhost:8080/",
          "height": 336
        },
        "outputId": "d1c51e9d-6cf6-4a13-c068-5e07f52e85b2"
      },
      "source": [
        "# \n",
        "quantiles = np.arange(0.1,1,0.4) \n",
        "models = []\n",
        "params = []\n",
        "i = [0, 1, 2, 3, 4, 5, 6]\n",
        "# We build models for each quantile in our list quantiles inside a for loop\n",
        "# As we build these models we also store the model parameters in a list called params. \n",
        "for qt in quantiles: \n",
        "\tres = mod.fit(q = qt )\n",
        "\tmodels.append(res)\n",
        "\tparams.append([qt, res.params['Intercept'], res.params['x_c1[0]']] + res.conf_int().loc['x_c1[0]'].tolist())\n",
        "\n",
        "# Lastly we make a dataframe of the same name, so we we can view our different models.\n",
        "params = pd.DataFrame(h = params, columns = ['qt', 'intercept', 'x_coef', 'cf_lower_bound', 'cf_upper_bound'])\n",
        "print(params)"
      ],
      "execution_count": null,
      "outputs": [
        {
          "output_type": "stream",
          "text": [
            "/usr/local/lib/python3.6/dist-packages/statsmodels/regression/quantile_regression.py:192: IterationLimitWarning: Maximum number of iterations (1000) reached.\n",
            "  \") reached.\", IterationLimitWarning)\n",
            "/usr/local/lib/python3.6/dist-packages/statsmodels/regression/quantile_regression.py:192: IterationLimitWarning: Maximum number of iterations (1000) reached.\n",
            "  \") reached.\", IterationLimitWarning)\n"
          ],
          "name": "stderr"
        },
        {
          "output_type": "error",
          "ename": "TypeError",
          "evalue": "ignored",
          "traceback": [
            "\u001b[0;31m---------------------------------------------------------------------------\u001b[0m",
            "\u001b[0;31mTypeError\u001b[0m                                 Traceback (most recent call last)",
            "\u001b[0;32m<ipython-input-35-ffa113b8b313>\u001b[0m in \u001b[0;36m<module>\u001b[0;34m()\u001b[0m\n\u001b[1;32m     12\u001b[0m \u001b[0;34m\u001b[0m\u001b[0m\n\u001b[1;32m     13\u001b[0m \u001b[0;31m# Lastly we make a dataframe of the same name, so we we can view our different models.\u001b[0m\u001b[0;34m\u001b[0m\u001b[0;34m\u001b[0m\u001b[0;34m\u001b[0m\u001b[0m\n\u001b[0;32m---> 14\u001b[0;31m \u001b[0mparams\u001b[0m \u001b[0;34m=\u001b[0m \u001b[0mpd\u001b[0m\u001b[0;34m.\u001b[0m\u001b[0mDataFrame\u001b[0m\u001b[0;34m(\u001b[0m\u001b[0mh\u001b[0m \u001b[0;34m=\u001b[0m \u001b[0mparams\u001b[0m\u001b[0;34m,\u001b[0m \u001b[0mcolumns\u001b[0m \u001b[0;34m=\u001b[0m \u001b[0;34m[\u001b[0m\u001b[0;34m'qt'\u001b[0m\u001b[0;34m,\u001b[0m \u001b[0;34m'intercept'\u001b[0m\u001b[0;34m,\u001b[0m \u001b[0;34m'x_coef'\u001b[0m\u001b[0;34m,\u001b[0m \u001b[0;34m'cf_lower_bound'\u001b[0m\u001b[0;34m,\u001b[0m \u001b[0;34m'cf_upper_bound'\u001b[0m\u001b[0;34m]\u001b[0m\u001b[0;34m)\u001b[0m\u001b[0;34m\u001b[0m\u001b[0;34m\u001b[0m\u001b[0m\n\u001b[0m\u001b[1;32m     15\u001b[0m \u001b[0mprint\u001b[0m\u001b[0;34m(\u001b[0m\u001b[0mparams\u001b[0m\u001b[0;34m)\u001b[0m\u001b[0;34m\u001b[0m\u001b[0;34m\u001b[0m\u001b[0m\n",
            "\u001b[0;31mTypeError\u001b[0m: __init__() got an unexpected keyword argument 'h'"
          ]
        }
      ]
    },
    {
      "cell_type": "markdown",
      "metadata": {
        "id": "aQHwQ96zNZlL"
      },
      "source": [
        "## <font color=\"green\">Challenge 2"
      ]
    },
    {
      "cell_type": "code",
      "metadata": {
        "id": "pIRcWXfCNhyp",
        "colab": {
          "base_uri": "https://localhost:8080/",
          "height": 309
        },
        "outputId": "b2aa058f-2feb-4a7a-a6c5-0d819da254f8"
      },
      "source": [
        "# Challenge 2\n",
        "# ---\n",
        "# Question: Given the household income data, determine the effect of predictor variables on the independent variable.\n",
        "# ---\n",
        "# Dataset source = http://bit.ly/USHouseholdDataset\n",
        "# ---\n",
        "# \n",
        "house = pd.read_csv('/content/kaggle_income.csv', encoding='ISO-8859-1')\n",
        "house.head()"
      ],
      "execution_count": null,
      "outputs": [
        {
          "output_type": "execute_result",
          "data": {
            "text/html": [
              "<div>\n",
              "<style scoped>\n",
              "    .dataframe tbody tr th:only-of-type {\n",
              "        vertical-align: middle;\n",
              "    }\n",
              "\n",
              "    .dataframe tbody tr th {\n",
              "        vertical-align: top;\n",
              "    }\n",
              "\n",
              "    .dataframe thead th {\n",
              "        text-align: right;\n",
              "    }\n",
              "</style>\n",
              "<table border=\"1\" class=\"dataframe\">\n",
              "  <thead>\n",
              "    <tr style=\"text-align: right;\">\n",
              "      <th></th>\n",
              "      <th>id</th>\n",
              "      <th>State_Code</th>\n",
              "      <th>State_Name</th>\n",
              "      <th>State_ab</th>\n",
              "      <th>County</th>\n",
              "      <th>City</th>\n",
              "      <th>Place</th>\n",
              "      <th>Type</th>\n",
              "      <th>Primary</th>\n",
              "      <th>Zip_Code</th>\n",
              "      <th>Area_Code</th>\n",
              "      <th>ALand</th>\n",
              "      <th>AWater</th>\n",
              "      <th>Lat</th>\n",
              "      <th>Lon</th>\n",
              "      <th>Mean</th>\n",
              "      <th>Median</th>\n",
              "      <th>Stdev</th>\n",
              "      <th>sum_w</th>\n",
              "    </tr>\n",
              "  </thead>\n",
              "  <tbody>\n",
              "    <tr>\n",
              "      <th>0</th>\n",
              "      <td>1011000</td>\n",
              "      <td>1</td>\n",
              "      <td>Alabama</td>\n",
              "      <td>AL</td>\n",
              "      <td>Mobile County</td>\n",
              "      <td>Chickasaw</td>\n",
              "      <td>Chickasaw city</td>\n",
              "      <td>City</td>\n",
              "      <td>place</td>\n",
              "      <td>36611</td>\n",
              "      <td>251</td>\n",
              "      <td>10894952</td>\n",
              "      <td>909156</td>\n",
              "      <td>30.771450</td>\n",
              "      <td>-88.079697</td>\n",
              "      <td>38773</td>\n",
              "      <td>30506</td>\n",
              "      <td>33101</td>\n",
              "      <td>1638.260513</td>\n",
              "    </tr>\n",
              "    <tr>\n",
              "      <th>1</th>\n",
              "      <td>1011010</td>\n",
              "      <td>1</td>\n",
              "      <td>Alabama</td>\n",
              "      <td>AL</td>\n",
              "      <td>Barbour County</td>\n",
              "      <td>Louisville</td>\n",
              "      <td>Clio city</td>\n",
              "      <td>City</td>\n",
              "      <td>place</td>\n",
              "      <td>36048</td>\n",
              "      <td>334</td>\n",
              "      <td>26070325</td>\n",
              "      <td>23254</td>\n",
              "      <td>31.708516</td>\n",
              "      <td>-85.611039</td>\n",
              "      <td>37725</td>\n",
              "      <td>19528</td>\n",
              "      <td>43789</td>\n",
              "      <td>258.017685</td>\n",
              "    </tr>\n",
              "    <tr>\n",
              "      <th>2</th>\n",
              "      <td>1011020</td>\n",
              "      <td>1</td>\n",
              "      <td>Alabama</td>\n",
              "      <td>AL</td>\n",
              "      <td>Shelby County</td>\n",
              "      <td>Columbiana</td>\n",
              "      <td>Columbiana city</td>\n",
              "      <td>City</td>\n",
              "      <td>place</td>\n",
              "      <td>35051</td>\n",
              "      <td>205</td>\n",
              "      <td>44835274</td>\n",
              "      <td>261034</td>\n",
              "      <td>33.191452</td>\n",
              "      <td>-86.615618</td>\n",
              "      <td>54606</td>\n",
              "      <td>31930</td>\n",
              "      <td>57348</td>\n",
              "      <td>926.031000</td>\n",
              "    </tr>\n",
              "    <tr>\n",
              "      <th>3</th>\n",
              "      <td>1011030</td>\n",
              "      <td>1</td>\n",
              "      <td>Alabama</td>\n",
              "      <td>AL</td>\n",
              "      <td>Mobile County</td>\n",
              "      <td>Satsuma</td>\n",
              "      <td>Creola city</td>\n",
              "      <td>City</td>\n",
              "      <td>place</td>\n",
              "      <td>36572</td>\n",
              "      <td>251</td>\n",
              "      <td>36878729</td>\n",
              "      <td>2374530</td>\n",
              "      <td>30.874343</td>\n",
              "      <td>-88.009442</td>\n",
              "      <td>63919</td>\n",
              "      <td>52814</td>\n",
              "      <td>47707</td>\n",
              "      <td>378.114619</td>\n",
              "    </tr>\n",
              "    <tr>\n",
              "      <th>4</th>\n",
              "      <td>1011040</td>\n",
              "      <td>1</td>\n",
              "      <td>Alabama</td>\n",
              "      <td>AL</td>\n",
              "      <td>Mobile County</td>\n",
              "      <td>Dauphin Island</td>\n",
              "      <td>Dauphin Island</td>\n",
              "      <td>Town</td>\n",
              "      <td>place</td>\n",
              "      <td>36528</td>\n",
              "      <td>251</td>\n",
              "      <td>16204185</td>\n",
              "      <td>413605152</td>\n",
              "      <td>30.250913</td>\n",
              "      <td>-88.171268</td>\n",
              "      <td>77948</td>\n",
              "      <td>67225</td>\n",
              "      <td>54270</td>\n",
              "      <td>282.320328</td>\n",
              "    </tr>\n",
              "  </tbody>\n",
              "</table>\n",
              "</div>"
            ],
            "text/plain": [
              "        id  State_Code State_Name State_ab  ...   Mean Median  Stdev        sum_w\n",
              "0  1011000           1    Alabama       AL  ...  38773  30506  33101  1638.260513\n",
              "1  1011010           1    Alabama       AL  ...  37725  19528  43789   258.017685\n",
              "2  1011020           1    Alabama       AL  ...  54606  31930  57348   926.031000\n",
              "3  1011030           1    Alabama       AL  ...  63919  52814  47707   378.114619\n",
              "4  1011040           1    Alabama       AL  ...  77948  67225  54270   282.320328\n",
              "\n",
              "[5 rows x 19 columns]"
            ]
          },
          "metadata": {
            "tags": []
          },
          "execution_count": 27
        }
      ]
    },
    {
      "cell_type": "code",
      "metadata": {
        "id": "w1gPsZc7cu8G",
        "colab": {
          "base_uri": "https://localhost:8080/"
        },
        "outputId": "3563c413-e713-4c59-dcc9-e9f4f2007bde"
      },
      "source": [
        "#\n",
        "x_c2 = house[['ALand', 'AWater']]\n",
        "y_c2 = house['sum_w']\n",
        "\n",
        "print(x_c2)\n",
        "print(y_c2)\n",
        "\n",
        "import statsmodels.formula.api as smf\n",
        "\n",
        "# Finding the regression coefficients for the conditioned median, 0.5 quantile\n",
        "#\n",
        "mod = smf.quantreg('y_c2 ~ x_c2', house)\n",
        "res = mod.fit(q=.5)\n",
        "\n",
        "# Then print out the summary of our model\n",
        "#\n",
        "print(res.summary())"
      ],
      "execution_count": null,
      "outputs": [
        {
          "output_type": "stream",
          "text": [
            "          ALand     AWater\n",
            "0      10894952     909156\n",
            "1      26070325      23254\n",
            "2      44835274     261034\n",
            "3      36878729    2374530\n",
            "4      16204185  413605152\n",
            "...         ...        ...\n",
            "32521    589417       1691\n",
            "32522   1801613     795887\n",
            "32523  11031227          0\n",
            "32524         0   33597561\n",
            "32525   6476604    2717115\n",
            "\n",
            "[32526 rows x 2 columns]\n",
            "0        1638.260513\n",
            "1         258.017685\n",
            "2         926.031000\n",
            "3         378.114619\n",
            "4         282.320328\n",
            "            ...     \n",
            "32521    1321.278082\n",
            "32522     238.813450\n",
            "32523     313.551070\n",
            "32524       0.000000\n",
            "32525     512.884803\n",
            "Name: sum_w, Length: 32526, dtype: float64\n",
            "                         QuantReg Regression Results                          \n",
            "==============================================================================\n",
            "Dep. Variable:                   y_c2   Pseudo R-squared:              -0.5004\n",
            "Model:                       QuantReg   Bandwidth:                       44.44\n",
            "Method:                 Least Squares   Sparsity:                        2800.\n",
            "Date:                Mon, 16 Nov 2020   No. Observations:                32526\n",
            "Time:                        15:01:44   Df Residuals:                    32523\n",
            "                                        Df Model:                            2\n",
            "==============================================================================\n",
            "                 coef    std err          t      P>|t|      [0.025      0.975]\n",
            "------------------------------------------------------------------------------\n",
            "Intercept  -6.867e-18   5.78e-18     -1.188      0.235   -1.82e-17    4.46e-18\n",
            "x_c2[0]     5.766e-08   7.28e-09      7.921      0.000    4.34e-08    7.19e-08\n",
            "x_c2[1]    -1.146e-07   4.47e-08     -2.561      0.010   -2.02e-07   -2.69e-08\n",
            "==============================================================================\n",
            "\n",
            "The condition number is large, 1.3e+09. This might indicate that there are\n",
            "strong multicollinearity or other numerical problems.\n"
          ],
          "name": "stdout"
        }
      ]
    },
    {
      "cell_type": "markdown",
      "metadata": {
        "id": "Q2QHClUXNa-P"
      },
      "source": [
        "## <font color=\"green\">Challenge 3</font>"
      ]
    },
    {
      "cell_type": "code",
      "metadata": {
        "id": "de_EsL_WNjJS",
        "colab": {
          "base_uri": "https://localhost:8080/",
          "height": 204
        },
        "outputId": "bde7dd25-c29d-4501-d1c8-3dfae6f8f939"
      },
      "source": [
        "# Challenge 3\n",
        "# ---\n",
        "# Question: Create a regression model on the following dataset.\n",
        "# ---\n",
        "# Dataset url = http://bit.ly/MtCarsDataset\n",
        "# ---\n",
        "cars = pd.read_csv('http://bit.ly/MtCarsDataset')\n",
        "cars.head()"
      ],
      "execution_count": null,
      "outputs": [
        {
          "output_type": "execute_result",
          "data": {
            "text/html": [
              "<div>\n",
              "<style scoped>\n",
              "    .dataframe tbody tr th:only-of-type {\n",
              "        vertical-align: middle;\n",
              "    }\n",
              "\n",
              "    .dataframe tbody tr th {\n",
              "        vertical-align: top;\n",
              "    }\n",
              "\n",
              "    .dataframe thead th {\n",
              "        text-align: right;\n",
              "    }\n",
              "</style>\n",
              "<table border=\"1\" class=\"dataframe\">\n",
              "  <thead>\n",
              "    <tr style=\"text-align: right;\">\n",
              "      <th></th>\n",
              "      <th>model</th>\n",
              "      <th>mpg</th>\n",
              "      <th>cyl</th>\n",
              "      <th>disp</th>\n",
              "      <th>hp</th>\n",
              "      <th>drat</th>\n",
              "      <th>wt</th>\n",
              "      <th>qsec</th>\n",
              "      <th>vs</th>\n",
              "      <th>am</th>\n",
              "      <th>gear</th>\n",
              "      <th>carb</th>\n",
              "    </tr>\n",
              "  </thead>\n",
              "  <tbody>\n",
              "    <tr>\n",
              "      <th>0</th>\n",
              "      <td>Mazda RX4</td>\n",
              "      <td>21.0</td>\n",
              "      <td>6</td>\n",
              "      <td>160.0</td>\n",
              "      <td>110</td>\n",
              "      <td>3.90</td>\n",
              "      <td>2.620</td>\n",
              "      <td>16.46</td>\n",
              "      <td>0</td>\n",
              "      <td>1</td>\n",
              "      <td>4</td>\n",
              "      <td>4</td>\n",
              "    </tr>\n",
              "    <tr>\n",
              "      <th>1</th>\n",
              "      <td>Mazda RX4 Wag</td>\n",
              "      <td>21.0</td>\n",
              "      <td>6</td>\n",
              "      <td>160.0</td>\n",
              "      <td>110</td>\n",
              "      <td>3.90</td>\n",
              "      <td>2.875</td>\n",
              "      <td>17.02</td>\n",
              "      <td>0</td>\n",
              "      <td>1</td>\n",
              "      <td>4</td>\n",
              "      <td>4</td>\n",
              "    </tr>\n",
              "    <tr>\n",
              "      <th>2</th>\n",
              "      <td>Datsun 710</td>\n",
              "      <td>22.8</td>\n",
              "      <td>4</td>\n",
              "      <td>108.0</td>\n",
              "      <td>93</td>\n",
              "      <td>3.85</td>\n",
              "      <td>2.320</td>\n",
              "      <td>18.61</td>\n",
              "      <td>1</td>\n",
              "      <td>1</td>\n",
              "      <td>4</td>\n",
              "      <td>1</td>\n",
              "    </tr>\n",
              "    <tr>\n",
              "      <th>3</th>\n",
              "      <td>Hornet 4 Drive</td>\n",
              "      <td>21.4</td>\n",
              "      <td>6</td>\n",
              "      <td>258.0</td>\n",
              "      <td>110</td>\n",
              "      <td>3.08</td>\n",
              "      <td>3.215</td>\n",
              "      <td>19.44</td>\n",
              "      <td>1</td>\n",
              "      <td>0</td>\n",
              "      <td>3</td>\n",
              "      <td>1</td>\n",
              "    </tr>\n",
              "    <tr>\n",
              "      <th>4</th>\n",
              "      <td>Hornet Sportabout</td>\n",
              "      <td>18.7</td>\n",
              "      <td>8</td>\n",
              "      <td>360.0</td>\n",
              "      <td>175</td>\n",
              "      <td>3.15</td>\n",
              "      <td>3.440</td>\n",
              "      <td>17.02</td>\n",
              "      <td>0</td>\n",
              "      <td>0</td>\n",
              "      <td>3</td>\n",
              "      <td>2</td>\n",
              "    </tr>\n",
              "  </tbody>\n",
              "</table>\n",
              "</div>"
            ],
            "text/plain": [
              "               model   mpg  cyl   disp   hp  ...   qsec  vs  am  gear  carb\n",
              "0          Mazda RX4  21.0    6  160.0  110  ...  16.46   0   1     4     4\n",
              "1      Mazda RX4 Wag  21.0    6  160.0  110  ...  17.02   0   1     4     4\n",
              "2         Datsun 710  22.8    4  108.0   93  ...  18.61   1   1     4     1\n",
              "3     Hornet 4 Drive  21.4    6  258.0  110  ...  19.44   1   0     3     1\n",
              "4  Hornet Sportabout  18.7    8  360.0  175  ...  17.02   0   0     3     2\n",
              "\n",
              "[5 rows x 12 columns]"
            ]
          },
          "metadata": {
            "tags": []
          },
          "execution_count": 20
        }
      ]
    },
    {
      "cell_type": "code",
      "metadata": {
        "id": "s_3Kg8d2cxQd",
        "colab": {
          "base_uri": "https://localhost:8080/"
        },
        "outputId": "5292c908-fb75-4e62-c9ae-9878647daa8f"
      },
      "source": [
        "#\n",
        "x_c3 = cars.drop(['model', 'mpg'], axis=1)\n",
        "y_c3 = cars['mpg']\n",
        "\n",
        "print(x_c3)\n",
        "print(y_c3)\n",
        "\n",
        "import statsmodels.formula.api as smf\n",
        "\n",
        "# Finding the regression coefficients for the conditioned median, 0.5 quantile\n",
        "#\n",
        "mod = smf.quantreg('y_c3 ~ x_c3', cars)\n",
        "res = mod.fit(q=.5)\n",
        "\n",
        "# Then print out the summary of our model\n",
        "#\n",
        "print(res.summary())"
      ],
      "execution_count": null,
      "outputs": [
        {
          "output_type": "stream",
          "text": [
            "    cyl   disp   hp  drat     wt   qsec  vs  am  gear  carb\n",
            "0     6  160.0  110  3.90  2.620  16.46   0   1     4     4\n",
            "1     6  160.0  110  3.90  2.875  17.02   0   1     4     4\n",
            "2     4  108.0   93  3.85  2.320  18.61   1   1     4     1\n",
            "3     6  258.0  110  3.08  3.215  19.44   1   0     3     1\n",
            "4     8  360.0  175  3.15  3.440  17.02   0   0     3     2\n",
            "5     6  225.0  105  2.76  3.460  20.22   1   0     3     1\n",
            "6     8  360.0  245  3.21  3.570  15.84   0   0     3     4\n",
            "7     4  146.7   62  3.69  3.190  20.00   1   0     4     2\n",
            "8     4  140.8   95  3.92  3.150  22.90   1   0     4     2\n",
            "9     6  167.6  123  3.92  3.440  18.30   1   0     4     4\n",
            "10    6  167.6  123  3.92  3.440  18.90   1   0     4     4\n",
            "11    8  275.8  180  3.07  4.070  17.40   0   0     3     3\n",
            "12    8  275.8  180  3.07  3.730  17.60   0   0     3     3\n",
            "13    8  275.8  180  3.07  3.780  18.00   0   0     3     3\n",
            "14    8  472.0  205  2.93  5.250  17.98   0   0     3     4\n",
            "15    8  460.0  215  3.00  5.424  17.82   0   0     3     4\n",
            "16    8  440.0  230  3.23  5.345  17.42   0   0     3     4\n",
            "17    4   78.7   66  4.08  2.200  19.47   1   1     4     1\n",
            "18    4   75.7   52  4.93  1.615  18.52   1   1     4     2\n",
            "19    4   71.1   65  4.22  1.835  19.90   1   1     4     1\n",
            "20    4  120.1   97  3.70  2.465  20.01   1   0     3     1\n",
            "21    8  318.0  150  2.76  3.520  16.87   0   0     3     2\n",
            "22    8  304.0  150  3.15  3.435  17.30   0   0     3     2\n",
            "23    8  350.0  245  3.73  3.840  15.41   0   0     3     4\n",
            "24    8  400.0  175  3.08  3.845  17.05   0   0     3     2\n",
            "25    4   79.0   66  4.08  1.935  18.90   1   1     4     1\n",
            "26    4  120.3   91  4.43  2.140  16.70   0   1     5     2\n",
            "27    4   95.1  113  3.77  1.513  16.90   1   1     5     2\n",
            "28    8  351.0  264  4.22  3.170  14.50   0   1     5     4\n",
            "29    6  145.0  175  3.62  2.770  15.50   0   1     5     6\n",
            "30    8  301.0  335  3.54  3.570  14.60   0   1     5     8\n",
            "31    4  121.0  109  4.11  2.780  18.60   1   1     4     2\n",
            "0     21.0\n",
            "1     21.0\n",
            "2     22.8\n",
            "3     21.4\n",
            "4     18.7\n",
            "5     18.1\n",
            "6     14.3\n",
            "7     24.4\n",
            "8     22.8\n",
            "9     19.2\n",
            "10    17.8\n",
            "11    16.4\n",
            "12    17.3\n",
            "13    15.2\n",
            "14    10.4\n",
            "15    10.4\n",
            "16    14.7\n",
            "17    32.4\n",
            "18    30.4\n",
            "19    33.9\n",
            "20    21.5\n",
            "21    15.5\n",
            "22    15.2\n",
            "23    13.3\n",
            "24    19.2\n",
            "25    27.3\n",
            "26    26.0\n",
            "27    30.4\n",
            "28    15.8\n",
            "29    19.7\n",
            "30    15.0\n",
            "31    21.4\n",
            "Name: mpg, dtype: float64\n",
            "                         QuantReg Regression Results                          \n",
            "==============================================================================\n",
            "Dep. Variable:                   y_c3   Pseudo R-squared:               0.6673\n",
            "Model:                       QuantReg   Bandwidth:                       2.787\n",
            "Method:                 Least Squares   Sparsity:                        5.599\n",
            "Date:                Mon, 16 Nov 2020   No. Observations:                   32\n",
            "Time:                        09:50:05   Df Residuals:                       21\n",
            "                                        Df Model:                           10\n",
            "==============================================================================\n",
            "                 coef    std err          t      P>|t|      [0.025      0.975]\n",
            "------------------------------------------------------------------------------\n",
            "Intercept      7.6190     19.773      0.385      0.704     -33.500      48.738\n",
            "x_c3[0]        0.6466      1.104      0.586      0.564      -1.649       2.942\n",
            "x_c3[1]        0.0233      0.019      1.235      0.230      -0.016       0.063\n",
            "x_c3[2]       -0.0315      0.023     -1.370      0.185      -0.079       0.016\n",
            "x_c3[3]        0.7806      1.728      0.452      0.656      -2.812       4.373\n",
            "x_c3[4]       -4.5623      2.001     -2.280      0.033      -8.724      -0.401\n",
            "x_c3[5]        0.5761      0.772      0.746      0.464      -1.029       2.182\n",
            "x_c3[6]        1.5888      2.223      0.715      0.483      -3.034       6.212\n",
            "x_c3[7]        1.3318      2.173      0.613      0.546      -3.186       5.850\n",
            "x_c3[8]        2.3745      1.577      1.505      0.147      -0.906       5.655\n",
            "x_c3[9]       -0.3314      0.875     -0.379      0.709      -2.152       1.489\n",
            "==============================================================================\n",
            "\n",
            "The condition number is large, 1.22e+04. This might indicate that there are\n",
            "strong multicollinearity or other numerical problems.\n"
          ],
          "name": "stdout"
        }
      ]
    }
  ]
}