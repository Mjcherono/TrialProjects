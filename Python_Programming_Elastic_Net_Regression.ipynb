{
  "nbformat": 4,
  "nbformat_minor": 0,
  "metadata": {
    "colab": {
      "name": "Python Programming: Elastic Net Regression ",
      "provenance": [],
      "collapsed_sections": [
        "scuAwXisqKmw",
        "oSFgsKKXqIiB",
        "eg6xL93DqlFp",
        "OfwuxrUVqpTN",
        "FIDC997cqqjr",
        "UWfQDCKZOrYe",
        "b6lsTHPfPQHR"
      ],
      "include_colab_link": true
    },
    "kernelspec": {
      "name": "python3",
      "display_name": "Python 3"
    }
  },
  "cells": [
    {
      "cell_type": "markdown",
      "metadata": {
        "id": "view-in-github",
        "colab_type": "text"
      },
      "source": [
        "<a href=\"https://colab.research.google.com/github/Mjcherono/TrialProjects/blob/main/Python_Programming_Elastic_Net_Regression.ipynb\" target=\"_parent\"><img src=\"https://colab.research.google.com/assets/colab-badge.svg\" alt=\"Open In Colab\"/></a>"
      ]
    },
    {
      "cell_type": "markdown",
      "metadata": {
        "id": "BpmQjuappoy8"
      },
      "source": [
        "<font color=\"green\">*To start working on this notebook, or any other notebook that we will use in the Moringa Data Science Course, we will need to save our own copy of it. We can do this by clicking File > Save a Copy in Drive. We will then be able to make edits to our own copy of this notebook.*</font>"
      ]
    },
    {
      "cell_type": "markdown",
      "metadata": {
        "id": "HNe8t7dVpbpu"
      },
      "source": [
        "# Python Programming: Elastic Net Regression "
      ]
    },
    {
      "cell_type": "markdown",
      "metadata": {
        "id": "scuAwXisqKmw"
      },
      "source": [
        "## Example"
      ]
    },
    {
      "cell_type": "code",
      "metadata": {
        "id": "Ny4eVDS-pRjg",
        "colab": {
          "base_uri": "https://localhost:8080/"
        },
        "outputId": "d5937d9e-21ac-447a-8990-1347da32c1a8"
      },
      "source": [
        "# Example 1\n",
        "# ---\n",
        "# Use the fair dataset from the pydataset library to predict marriage satisfaction based on the given variables.\n",
        "# ---\n",
        "# \n",
        "!pip install pydataset"
      ],
      "execution_count": 125,
      "outputs": [
        {
          "output_type": "stream",
          "text": [
            "Requirement already satisfied: pydataset in /usr/local/lib/python3.6/dist-packages (0.2.0)\n",
            "Requirement already satisfied: pandas in /usr/local/lib/python3.6/dist-packages (from pydataset) (1.1.4)\n",
            "Requirement already satisfied: numpy>=1.15.4 in /usr/local/lib/python3.6/dist-packages (from pandas->pydataset) (1.18.5)\n",
            "Requirement already satisfied: python-dateutil>=2.7.3 in /usr/local/lib/python3.6/dist-packages (from pandas->pydataset) (2.8.1)\n",
            "Requirement already satisfied: pytz>=2017.2 in /usr/local/lib/python3.6/dist-packages (from pandas->pydataset) (2018.9)\n",
            "Requirement already satisfied: six>=1.5 in /usr/local/lib/python3.6/dist-packages (from python-dateutil>=2.7.3->pandas->pydataset) (1.15.0)\n"
          ],
          "name": "stdout"
        }
      ]
    },
    {
      "cell_type": "code",
      "metadata": {
        "id": "_5Ce8nt6rLpz"
      },
      "source": [
        "# Importing our libraries\n",
        "# \n",
        "from pydataset import data\n",
        "import numpy as np\n",
        "import pandas as pd\n",
        "pd.set_option('display.max_rows', 5000)\n",
        "pd.set_option('display.max_columns', 5000)\n",
        "pd.set_option('display.width', 10000)\n",
        "\n",
        "from sklearn.model_selection import GridSearchCV\n",
        "from sklearn.linear_model import ElasticNet\n",
        "from sklearn.linear_model import LinearRegression\n",
        "from sklearn.metrics import mean_squared_error"
      ],
      "execution_count": 126,
      "outputs": []
    },
    {
      "cell_type": "code",
      "metadata": {
        "id": "DSdAir83rPwt"
      },
      "source": [
        "# Data preparation\n",
        "# \n",
        "df=pd.DataFrame(data('Fair'))\n",
        "df.loc[df.sex== 'male', 'sex'] = 0\n",
        "df.loc[df.sex== 'female','sex'] = 1\n",
        "df['sex'] = df['sex'].astype(int)\n",
        "df.loc[df.child== 'no', 'child'] = 0\n",
        "df.loc[df.child== 'yes','child'] = 1\n",
        "df['child'] = df['child'].astype(int)\n",
        "X=df[['religious','age','sex','ym','education','occupation','nbaffairs']]\n",
        "y=df['rate']"
      ],
      "execution_count": 127,
      "outputs": []
    },
    {
      "cell_type": "code",
      "metadata": {
        "id": "YRhDWYgprhNy",
        "colab": {
          "base_uri": "https://localhost:8080/"
        },
        "outputId": "37cac805-40a1-4a83-c735-cbc234292341"
      },
      "source": [
        "# Creating our linear regression model for the purpose of comparison\n",
        "# \n",
        "regression=LinearRegression()\n",
        "regression.fit(X,y)\n",
        "first_model=(mean_squared_error(y_true=y,y_pred=regression.predict(X)))\n",
        "print(first_model) \n",
        "\n",
        "# This mean standard error score of 1.05 is our benchmark for determining \n",
        "# if the elastic net model will be better or worst. "
      ],
      "execution_count": 128,
      "outputs": [
        {
          "output_type": "stream",
          "text": [
            "1.049873864469667\n"
          ],
          "name": "stdout"
        }
      ]
    },
    {
      "cell_type": "code",
      "metadata": {
        "id": "Itfl2nFNrnXD",
        "colab": {
          "base_uri": "https://localhost:8080/"
        },
        "outputId": "c9a69be6-6d2a-4238-83c5-22ad85c725c4"
      },
      "source": [
        "# Below are the coefficients of this first model. We use a for loop to go through \n",
        "# the model and the zip function to combine the two columns.\n",
        "# \n",
        "coef_dict_baseline = {}\n",
        "for coef, feat in zip(regression.coef_,X.columns):\n",
        "    coef_dict_baseline[feat] = coef\n",
        "coef_dict_baselinecoef_dict_baseline = {}\n",
        "for coef, feat in zip(regression.coef_,X.columns):\n",
        "    coef_dict_baseline[feat] = coef\n",
        "coef_dict_baseline"
      ],
      "execution_count": 129,
      "outputs": [
        {
          "output_type": "execute_result",
          "data": {
            "text/plain": [
              "{'age': -0.00905964542867384,\n",
              " 'education': 0.06810255742293703,\n",
              " 'nbaffairs': -0.07882571247653965,\n",
              " 'occupation': -0.00597950685299818,\n",
              " 'religious': 0.04235281110639179,\n",
              " 'sex': 0.0888201333708709,\n",
              " 'ym': -0.030458802565476555}"
            ]
          },
          "metadata": {
            "tags": []
          },
          "execution_count": 129
        }
      ]
    },
    {
      "cell_type": "code",
      "metadata": {
        "id": "slBa3TuPsQ5A"
      },
      "source": [
        "# Elastic Net Model\n",
        "# Elastic net, just like ridge and lasso regression, requires normalize data. \n",
        "# This argument  is set inside the ElasticNet function. \n",
        "# The second thing we need to do is create our grid.\n",
        "# \n",
        "elastic=ElasticNet(normalize=True)\n",
        "search=GridSearchCV(estimator=elastic,param_grid={'alpha':np.logspace(-5,2,8),'l1_ratio':[.2,.4,.6,.8]},scoring='neg_mean_squared_error',n_jobs=1,refit=True,cv=10)"
      ],
      "execution_count": 130,
      "outputs": []
    },
    {
      "cell_type": "code",
      "metadata": {
        "id": "wKMvWkn7sxao",
        "colab": {
          "base_uri": "https://localhost:8080/"
        },
        "outputId": "7cd2e577-7474-4ba2-af31-89448e62b990"
      },
      "source": [
        "# We will now fit our model and display the best parameters and the best results we can get with that setup.\n",
        "# \n",
        "search.fit(X,y)\n",
        "search.best_params_\n",
        "abs(search.best_score_)"
      ],
      "execution_count": 131,
      "outputs": [
        {
          "output_type": "execute_result",
          "data": {
            "text/plain": [
              "1.0819158709244472"
            ]
          },
          "metadata": {
            "tags": []
          },
          "execution_count": 131
        }
      ]
    },
    {
      "cell_type": "code",
      "metadata": {
        "colab": {
          "base_uri": "https://localhost:8080/"
        },
        "id": "1ct3kkYkjF-A",
        "outputId": "98325ac3-1b00-4d5a-bb36-cf3f90e1f379"
      },
      "source": [
        "elastic=ElasticNet(normalize=True,alpha=0.001,l1_ratio=0.75)\n",
        "elastic.fit(X,y)\n",
        "second_model=(mean_squared_error(y_true=y,y_pred=elastic.predict(X)))\n",
        "print(second_model)"
      ],
      "execution_count": 132,
      "outputs": [
        {
          "output_type": "stream",
          "text": [
            "1.0566430678343806\n"
          ],
          "name": "stdout"
        }
      ]
    },
    {
      "cell_type": "code",
      "metadata": {
        "id": "gpzR2KETtPDY",
        "colab": {
          "base_uri": "https://localhost:8080/"
        },
        "outputId": "07c896bd-7dbe-455e-80e0-15fdb9610079"
      },
      "source": [
        "# Below are the coefficients\n",
        "# \n",
        "coef_dict_baseline = {}\n",
        "for coef, feat in zip(elastic.coef_,X.columns):\n",
        "    coef_dict_baseline[feat] = coef\n",
        "coef_dict_baseline\n",
        "\n",
        "# The coefficients are mostly the same. \n",
        "# Notice that occupation was completely removed from the model in the elastic net version. \n",
        "# This means that this values was no good to the algorithm. Traditional regression cannot do this."
      ],
      "execution_count": 133,
      "outputs": [
        {
          "output_type": "execute_result",
          "data": {
            "text/plain": [
              "{'age': -0.008630896492807693,\n",
              " 'education': 0.04429085595448633,\n",
              " 'nbaffairs': -0.06679513627963515,\n",
              " 'occupation': -0.0,\n",
              " 'religious': 0.019475417249578564,\n",
              " 'sex': 0.01811646456809079,\n",
              " 'ym': -0.02422483127451297}"
            ]
          },
          "metadata": {
            "tags": []
          },
          "execution_count": 133
        }
      ]
    },
    {
      "cell_type": "markdown",
      "metadata": {
        "id": "oSFgsKKXqIiB"
      },
      "source": [
        "## Challenges"
      ]
    },
    {
      "cell_type": "markdown",
      "metadata": {
        "id": "eg6xL93DqlFp"
      },
      "source": [
        "### <font color=\"green\">Challenge 1</font>"
      ]
    },
    {
      "cell_type": "code",
      "metadata": {
        "id": "tggiLGHzqcaJ",
        "colab": {
          "base_uri": "https://localhost:8080/",
          "height": 215
        },
        "outputId": "b9c700a3-eb17-409c-d896-7bc18cea6481"
      },
      "source": [
        "# Challenge 1\n",
        "# ---\n",
        "# Question: Using the given housiet, create a regression model to predict \n",
        "# the value of prices of a house using the given features. \n",
        "# ---\n",
        "# Dataset url = http://bit.ly/BostonHousingDataset\n",
        "#\n",
        "\n",
        "housiet = pd.read_csv('http://bit.ly/BostonHousingDataset')\n",
        "housiet.head()"
      ],
      "execution_count": 158,
      "outputs": [
        {
          "output_type": "execute_result",
          "data": {
            "text/html": [
              "<div>\n",
              "<style scoped>\n",
              "    .dataframe tbody tr th:only-of-type {\n",
              "        vertical-align: middle;\n",
              "    }\n",
              "\n",
              "    .dataframe tbody tr th {\n",
              "        vertical-align: top;\n",
              "    }\n",
              "\n",
              "    .dataframe thead th {\n",
              "        text-align: right;\n",
              "    }\n",
              "</style>\n",
              "<table border=\"1\" class=\"dataframe\">\n",
              "  <thead>\n",
              "    <tr style=\"text-align: right;\">\n",
              "      <th></th>\n",
              "      <th>crim</th>\n",
              "      <th>zn</th>\n",
              "      <th>indus</th>\n",
              "      <th>chas</th>\n",
              "      <th>nox</th>\n",
              "      <th>rm</th>\n",
              "      <th>age</th>\n",
              "      <th>dis</th>\n",
              "      <th>rad</th>\n",
              "      <th>tax</th>\n",
              "      <th>ptratio</th>\n",
              "      <th>b</th>\n",
              "      <th>lstat</th>\n",
              "      <th>medv</th>\n",
              "    </tr>\n",
              "  </thead>\n",
              "  <tbody>\n",
              "    <tr>\n",
              "      <th>0</th>\n",
              "      <td>0.00632</td>\n",
              "      <td>18.0</td>\n",
              "      <td>2.31</td>\n",
              "      <td>0</td>\n",
              "      <td>0.538</td>\n",
              "      <td>6.575</td>\n",
              "      <td>65.2</td>\n",
              "      <td>4.0900</td>\n",
              "      <td>1</td>\n",
              "      <td>296</td>\n",
              "      <td>15.3</td>\n",
              "      <td>396.90</td>\n",
              "      <td>4.98</td>\n",
              "      <td>24.0</td>\n",
              "    </tr>\n",
              "    <tr>\n",
              "      <th>1</th>\n",
              "      <td>0.02731</td>\n",
              "      <td>0.0</td>\n",
              "      <td>7.07</td>\n",
              "      <td>0</td>\n",
              "      <td>0.469</td>\n",
              "      <td>6.421</td>\n",
              "      <td>78.9</td>\n",
              "      <td>4.9671</td>\n",
              "      <td>2</td>\n",
              "      <td>242</td>\n",
              "      <td>17.8</td>\n",
              "      <td>396.90</td>\n",
              "      <td>9.14</td>\n",
              "      <td>21.6</td>\n",
              "    </tr>\n",
              "    <tr>\n",
              "      <th>2</th>\n",
              "      <td>0.02729</td>\n",
              "      <td>0.0</td>\n",
              "      <td>7.07</td>\n",
              "      <td>0</td>\n",
              "      <td>0.469</td>\n",
              "      <td>7.185</td>\n",
              "      <td>61.1</td>\n",
              "      <td>4.9671</td>\n",
              "      <td>2</td>\n",
              "      <td>242</td>\n",
              "      <td>17.8</td>\n",
              "      <td>392.83</td>\n",
              "      <td>4.03</td>\n",
              "      <td>34.7</td>\n",
              "    </tr>\n",
              "    <tr>\n",
              "      <th>3</th>\n",
              "      <td>0.03237</td>\n",
              "      <td>0.0</td>\n",
              "      <td>2.18</td>\n",
              "      <td>0</td>\n",
              "      <td>0.458</td>\n",
              "      <td>6.998</td>\n",
              "      <td>45.8</td>\n",
              "      <td>6.0622</td>\n",
              "      <td>3</td>\n",
              "      <td>222</td>\n",
              "      <td>18.7</td>\n",
              "      <td>394.63</td>\n",
              "      <td>2.94</td>\n",
              "      <td>33.4</td>\n",
              "    </tr>\n",
              "    <tr>\n",
              "      <th>4</th>\n",
              "      <td>0.06905</td>\n",
              "      <td>0.0</td>\n",
              "      <td>2.18</td>\n",
              "      <td>0</td>\n",
              "      <td>0.458</td>\n",
              "      <td>7.147</td>\n",
              "      <td>54.2</td>\n",
              "      <td>6.0622</td>\n",
              "      <td>3</td>\n",
              "      <td>222</td>\n",
              "      <td>18.7</td>\n",
              "      <td>396.90</td>\n",
              "      <td>5.33</td>\n",
              "      <td>36.2</td>\n",
              "    </tr>\n",
              "  </tbody>\n",
              "</table>\n",
              "</div>"
            ],
            "text/plain": [
              "      crim    zn  indus  chas    nox     rm   age     dis  rad  tax  ptratio       b  lstat  medv\n",
              "0  0.00632  18.0   2.31     0  0.538  6.575  65.2  4.0900    1  296     15.3  396.90   4.98  24.0\n",
              "1  0.02731   0.0   7.07     0  0.469  6.421  78.9  4.9671    2  242     17.8  396.90   9.14  21.6\n",
              "2  0.02729   0.0   7.07     0  0.469  7.185  61.1  4.9671    2  242     17.8  392.83   4.03  34.7\n",
              "3  0.03237   0.0   2.18     0  0.458  6.998  45.8  6.0622    3  222     18.7  394.63   2.94  33.4\n",
              "4  0.06905   0.0   2.18     0  0.458  7.147  54.2  6.0622    3  222     18.7  396.90   5.33  36.2"
            ]
          },
          "metadata": {
            "tags": []
          },
          "execution_count": 158
        }
      ]
    },
    {
      "cell_type": "code",
      "metadata": {
        "colab": {
          "base_uri": "https://localhost:8080/",
          "height": 215
        },
        "id": "XIArgEpJkvGL",
        "outputId": "1e4f1b5a-88a2-4746-bd67-4835c44bf8b7"
      },
      "source": [
        "housiet['Prices'] = housiet['tax'] * housiet['ptratio']\n",
        "housiet.head()"
      ],
      "execution_count": 159,
      "outputs": [
        {
          "output_type": "execute_result",
          "data": {
            "text/html": [
              "<div>\n",
              "<style scoped>\n",
              "    .dataframe tbody tr th:only-of-type {\n",
              "        vertical-align: middle;\n",
              "    }\n",
              "\n",
              "    .dataframe tbody tr th {\n",
              "        vertical-align: top;\n",
              "    }\n",
              "\n",
              "    .dataframe thead th {\n",
              "        text-align: right;\n",
              "    }\n",
              "</style>\n",
              "<table border=\"1\" class=\"dataframe\">\n",
              "  <thead>\n",
              "    <tr style=\"text-align: right;\">\n",
              "      <th></th>\n",
              "      <th>crim</th>\n",
              "      <th>zn</th>\n",
              "      <th>indus</th>\n",
              "      <th>chas</th>\n",
              "      <th>nox</th>\n",
              "      <th>rm</th>\n",
              "      <th>age</th>\n",
              "      <th>dis</th>\n",
              "      <th>rad</th>\n",
              "      <th>tax</th>\n",
              "      <th>ptratio</th>\n",
              "      <th>b</th>\n",
              "      <th>lstat</th>\n",
              "      <th>medv</th>\n",
              "      <th>Prices</th>\n",
              "    </tr>\n",
              "  </thead>\n",
              "  <tbody>\n",
              "    <tr>\n",
              "      <th>0</th>\n",
              "      <td>0.00632</td>\n",
              "      <td>18.0</td>\n",
              "      <td>2.31</td>\n",
              "      <td>0</td>\n",
              "      <td>0.538</td>\n",
              "      <td>6.575</td>\n",
              "      <td>65.2</td>\n",
              "      <td>4.0900</td>\n",
              "      <td>1</td>\n",
              "      <td>296</td>\n",
              "      <td>15.3</td>\n",
              "      <td>396.90</td>\n",
              "      <td>4.98</td>\n",
              "      <td>24.0</td>\n",
              "      <td>4528.8</td>\n",
              "    </tr>\n",
              "    <tr>\n",
              "      <th>1</th>\n",
              "      <td>0.02731</td>\n",
              "      <td>0.0</td>\n",
              "      <td>7.07</td>\n",
              "      <td>0</td>\n",
              "      <td>0.469</td>\n",
              "      <td>6.421</td>\n",
              "      <td>78.9</td>\n",
              "      <td>4.9671</td>\n",
              "      <td>2</td>\n",
              "      <td>242</td>\n",
              "      <td>17.8</td>\n",
              "      <td>396.90</td>\n",
              "      <td>9.14</td>\n",
              "      <td>21.6</td>\n",
              "      <td>4307.6</td>\n",
              "    </tr>\n",
              "    <tr>\n",
              "      <th>2</th>\n",
              "      <td>0.02729</td>\n",
              "      <td>0.0</td>\n",
              "      <td>7.07</td>\n",
              "      <td>0</td>\n",
              "      <td>0.469</td>\n",
              "      <td>7.185</td>\n",
              "      <td>61.1</td>\n",
              "      <td>4.9671</td>\n",
              "      <td>2</td>\n",
              "      <td>242</td>\n",
              "      <td>17.8</td>\n",
              "      <td>392.83</td>\n",
              "      <td>4.03</td>\n",
              "      <td>34.7</td>\n",
              "      <td>4307.6</td>\n",
              "    </tr>\n",
              "    <tr>\n",
              "      <th>3</th>\n",
              "      <td>0.03237</td>\n",
              "      <td>0.0</td>\n",
              "      <td>2.18</td>\n",
              "      <td>0</td>\n",
              "      <td>0.458</td>\n",
              "      <td>6.998</td>\n",
              "      <td>45.8</td>\n",
              "      <td>6.0622</td>\n",
              "      <td>3</td>\n",
              "      <td>222</td>\n",
              "      <td>18.7</td>\n",
              "      <td>394.63</td>\n",
              "      <td>2.94</td>\n",
              "      <td>33.4</td>\n",
              "      <td>4151.4</td>\n",
              "    </tr>\n",
              "    <tr>\n",
              "      <th>4</th>\n",
              "      <td>0.06905</td>\n",
              "      <td>0.0</td>\n",
              "      <td>2.18</td>\n",
              "      <td>0</td>\n",
              "      <td>0.458</td>\n",
              "      <td>7.147</td>\n",
              "      <td>54.2</td>\n",
              "      <td>6.0622</td>\n",
              "      <td>3</td>\n",
              "      <td>222</td>\n",
              "      <td>18.7</td>\n",
              "      <td>396.90</td>\n",
              "      <td>5.33</td>\n",
              "      <td>36.2</td>\n",
              "      <td>4151.4</td>\n",
              "    </tr>\n",
              "  </tbody>\n",
              "</table>\n",
              "</div>"
            ],
            "text/plain": [
              "      crim    zn  indus  chas    nox     rm   age     dis  rad  tax  ptratio       b  lstat  medv  Prices\n",
              "0  0.00632  18.0   2.31     0  0.538  6.575  65.2  4.0900    1  296     15.3  396.90   4.98  24.0  4528.8\n",
              "1  0.02731   0.0   7.07     0  0.469  6.421  78.9  4.9671    2  242     17.8  396.90   9.14  21.6  4307.6\n",
              "2  0.02729   0.0   7.07     0  0.469  7.185  61.1  4.9671    2  242     17.8  392.83   4.03  34.7  4307.6\n",
              "3  0.03237   0.0   2.18     0  0.458  6.998  45.8  6.0622    3  222     18.7  394.63   2.94  33.4  4151.4\n",
              "4  0.06905   0.0   2.18     0  0.458  7.147  54.2  6.0622    3  222     18.7  396.90   5.33  36.2  4151.4"
            ]
          },
          "metadata": {
            "tags": []
          },
          "execution_count": 159
        }
      ]
    },
    {
      "cell_type": "code",
      "metadata": {
        "colab": {
          "base_uri": "https://localhost:8080/"
        },
        "id": "7Jn0sJ8DkGEE",
        "outputId": "b1a34c81-e10f-4b29-a272-d0bde56f2363"
      },
      "source": [
        "housiet.dtypes"
      ],
      "execution_count": 160,
      "outputs": [
        {
          "output_type": "execute_result",
          "data": {
            "text/plain": [
              "crim       float64\n",
              "zn         float64\n",
              "indus      float64\n",
              "chas         int64\n",
              "nox        float64\n",
              "rm         float64\n",
              "age        float64\n",
              "dis        float64\n",
              "rad          int64\n",
              "tax          int64\n",
              "ptratio    float64\n",
              "b          float64\n",
              "lstat      float64\n",
              "medv       float64\n",
              "Prices     float64\n",
              "dtype: object"
            ]
          },
          "metadata": {
            "tags": []
          },
          "execution_count": 160
        }
      ]
    },
    {
      "cell_type": "code",
      "metadata": {
        "id": "ktpQ3mbDlfUa"
      },
      "source": [
        "#Splitting\n",
        "X = housiet.iloc[:,0:14]\n",
        "y = housiet['Prices']\n"
      ],
      "execution_count": 161,
      "outputs": []
    },
    {
      "cell_type": "code",
      "metadata": {
        "colab": {
          "base_uri": "https://localhost:8080/"
        },
        "id": "Y6HGIcW1kGLH",
        "outputId": "943ecfb1-4b5b-47dd-b8b3-8e4fb1d1c25d"
      },
      "source": [
        "# Creating our linear regression model for the purpose of comparison\n",
        "# \n",
        "regression=LinearRegression()\n",
        "regression.fit(X,y)\n",
        "first_model=(mean_squared_error(y_true=y,y_pred=regression.predict(X)))\n",
        "print(first_model) "
      ],
      "execution_count": 162,
      "outputs": [
        {
          "output_type": "stream",
          "text": [
            "18657.889050348454\n"
          ],
          "name": "stdout"
        }
      ]
    },
    {
      "cell_type": "code",
      "metadata": {
        "colab": {
          "base_uri": "https://localhost:8080/"
        },
        "id": "M4IouVMIwNKv",
        "outputId": "27734c98-8936-4b23-966a-f51438761841"
      },
      "source": [
        "coef_dict_baseline = {}\n",
        "for coef, feat in zip(regression.coef_,X.columns):\n",
        "    coef_dict_baseline[feat] = coef\n",
        "coef_dict_baseline"
      ],
      "execution_count": 163,
      "outputs": [
        {
          "output_type": "execute_result",
          "data": {
            "text/plain": [
              "{'age': 0.3005428132458301,\n",
              " 'b': 0.13429051541081094,\n",
              " 'chas': -30.094494357915412,\n",
              " 'crim': -0.2381931213522644,\n",
              " 'dis': -25.10051822782158,\n",
              " 'indus': -0.30187858463276696,\n",
              " 'lstat': 6.904054043483076,\n",
              " 'medv': 2.900119935837742,\n",
              " 'nox': -538.8065092291724,\n",
              " 'ptratio': 342.86408386774986,\n",
              " 'rad': 21.615770835237395,\n",
              " 'rm': 38.79155601028663,\n",
              " 'tax': 18.87685987278246,\n",
              " 'zn': 1.9475566590360849}"
            ]
          },
          "metadata": {
            "tags": []
          },
          "execution_count": 163
        }
      ]
    },
    {
      "cell_type": "code",
      "metadata": {
        "id": "DrCOEzoeiytL"
      },
      "source": [
        "#Elastic net model, create grid\n",
        "elastic=ElasticNet(normalize=True)\n",
        "search=GridSearchCV(estimator=elastic,param_grid={'alpha':np.logspace(-5,2,8),'l1_ratio':[.2,.4,.6,.8]},scoring='neg_mean_squared_error',n_jobs=1,refit=True,cv=10)"
      ],
      "execution_count": 164,
      "outputs": []
    },
    {
      "cell_type": "code",
      "metadata": {
        "colab": {
          "base_uri": "https://localhost:8080/"
        },
        "id": "jB2yB1fTi8Gr",
        "outputId": "48b89a36-fde4-4946-c34d-631d4607ddb0"
      },
      "source": [
        "#fit model and display the best parameters \n",
        "search.fit(X,y)\n",
        "search.best_params_\n"
      ],
      "execution_count": 168,
      "outputs": [
        {
          "output_type": "execute_result",
          "data": {
            "text/plain": [
              "{'alpha': 1e-05, 'l1_ratio': 0.8}"
            ]
          },
          "metadata": {
            "tags": []
          },
          "execution_count": 168
        }
      ]
    },
    {
      "cell_type": "code",
      "metadata": {
        "colab": {
          "base_uri": "https://localhost:8080/"
        },
        "id": "qzVRYEEAAOyM",
        "outputId": "570749e6-adb0-4859-d01e-55e1057c0f48"
      },
      "source": [
        "abs(search.best_score_)"
      ],
      "execution_count": 169,
      "outputs": [
        {
          "output_type": "execute_result",
          "data": {
            "text/plain": [
              "38036.586669441844"
            ]
          },
          "metadata": {
            "tags": []
          },
          "execution_count": 169
        }
      ]
    },
    {
      "cell_type": "code",
      "metadata": {
        "colab": {
          "base_uri": "https://localhost:8080/"
        },
        "id": "53YRJGrJAGKl",
        "outputId": "41a6f6dd-09a2-4b82-cdc3-2a9a6352fb0a"
      },
      "source": [
        "elastic=ElasticNet(normalize=True,alpha=1e-05,l1_ratio=0.75)\n",
        "elastic.fit(X,y)\n",
        "second_model=(mean_squared_error(y_true=y,y_pred=elastic.predict(X)))\n",
        "print(second_model)"
      ],
      "execution_count": 170,
      "outputs": [
        {
          "output_type": "stream",
          "text": [
            "18789.856504659874\n"
          ],
          "name": "stdout"
        }
      ]
    },
    {
      "cell_type": "code",
      "metadata": {
        "colab": {
          "base_uri": "https://localhost:8080/"
        },
        "id": "G9YYynNgkGRc",
        "outputId": "e227d3f3-3335-40ac-9587-e05f588b6c1c"
      },
      "source": [
        "#Checking the coefficients\n",
        "coef_dict_baseline = {}\n",
        "for coef, feat in zip(regression.coef_,X.columns):\n",
        "    coef_dict_baseline[feat] = coef\n",
        "coef_dict_baseline"
      ],
      "execution_count": 171,
      "outputs": [
        {
          "output_type": "execute_result",
          "data": {
            "text/plain": [
              "{'age': 0.3005428132458301,\n",
              " 'b': 0.13429051541081094,\n",
              " 'chas': -30.094494357915412,\n",
              " 'crim': -0.2381931213522644,\n",
              " 'dis': -25.10051822782158,\n",
              " 'indus': -0.30187858463276696,\n",
              " 'lstat': 6.904054043483076,\n",
              " 'medv': 2.900119935837742,\n",
              " 'nox': -538.8065092291724,\n",
              " 'ptratio': 342.86408386774986,\n",
              " 'rad': 21.615770835237395,\n",
              " 'rm': 38.79155601028663,\n",
              " 'tax': 18.87685987278246,\n",
              " 'zn': 1.9475566590360849}"
            ]
          },
          "metadata": {
            "tags": []
          },
          "execution_count": 171
        }
      ]
    },
    {
      "cell_type": "markdown",
      "metadata": {
        "id": "OfwuxrUVqpTN"
      },
      "source": [
        "### <font color=\"green\">Challenge 2</font>"
      ]
    },
    {
      "cell_type": "code",
      "metadata": {
        "id": "4C_RP2J-qe8P"
      },
      "source": [
        "# Challenge 2\n",
        "# ---\n",
        "# Question: Using the Ames Housing dataset, create a regression model to predict the sales price of home \n",
        "# applying elastic net regression.\n",
        "# ---\n",
        "# Dataset Source = http://bit.ly/HousePricesDataset\n",
        "# \n",
        "house_train = pd.read_csv('/content/train.csv')"
      ],
      "execution_count": 172,
      "outputs": []
    },
    {
      "cell_type": "code",
      "metadata": {
        "colab": {
          "base_uri": "https://localhost:8080/"
        },
        "id": "4ubaM8idyW6k",
        "outputId": "1732224c-a113-478d-9234-d2461d60d1e4"
      },
      "source": [
        "house_train.shape"
      ],
      "execution_count": 173,
      "outputs": [
        {
          "output_type": "execute_result",
          "data": {
            "text/plain": [
              "(1460, 81)"
            ]
          },
          "metadata": {
            "tags": []
          },
          "execution_count": 173
        }
      ]
    },
    {
      "cell_type": "code",
      "metadata": {
        "colab": {
          "base_uri": "https://localhost:8080/"
        },
        "id": "x-psBtUsyXiG",
        "outputId": "3c4e5ddc-6725-44a3-c8d7-574b22e9b91a"
      },
      "source": [
        "house_train.columns"
      ],
      "execution_count": 145,
      "outputs": [
        {
          "output_type": "execute_result",
          "data": {
            "text/plain": [
              "Index(['Id', 'MSSubClass', 'MSZoning', 'LotFrontage', 'LotArea', 'Street', 'Alley', 'LotShape', 'LandContour', 'Utilities', 'LotConfig', 'LandSlope', 'Neighborhood', 'Condition1', 'Condition2', 'BldgType', 'HouseStyle', 'OverallQual', 'OverallCond', 'YearBuilt', 'YearRemodAdd', 'RoofStyle', 'RoofMatl', 'Exterior1st', 'Exterior2nd', 'MasVnrType', 'MasVnrArea', 'ExterQual', 'ExterCond', 'Foundation', 'BsmtQual', 'BsmtCond', 'BsmtExposure', 'BsmtFinType1', 'BsmtFinSF1', 'BsmtFinType2', 'BsmtFinSF2', 'BsmtUnfSF', 'TotalBsmtSF', 'Heating', 'HeatingQC', 'CentralAir', 'Electrical', '1stFlrSF', '2ndFlrSF', 'LowQualFinSF', 'GrLivArea', 'BsmtFullBath', 'BsmtHalfBath', 'FullBath', 'HalfBath', 'BedroomAbvGr', 'KitchenAbvGr', 'KitchenQual', 'TotRmsAbvGrd', 'Functional', 'Fireplaces', 'FireplaceQu', 'GarageType', 'GarageYrBlt', 'GarageFinish', 'GarageCars', 'GarageArea', 'GarageQual', 'GarageCond', 'PavedDrive', 'WoodDeckSF', 'OpenPorchSF', 'EnclosedPorch', '3SsnPorch', 'ScreenPorch', 'PoolArea', 'PoolQC', 'Fence', 'MiscFeature', 'MiscVal', 'MoSold', 'YrSold', 'SaleType', 'SaleCondition', 'SalePrice'], dtype='object')"
            ]
          },
          "metadata": {
            "tags": []
          },
          "execution_count": 145
        }
      ]
    },
    {
      "cell_type": "code",
      "metadata": {
        "id": "j3ONIjNzyXwE"
      },
      "source": [
        "house_train.drop(['Id'], axis=1,inplace=True)"
      ],
      "execution_count": 146,
      "outputs": []
    },
    {
      "cell_type": "code",
      "metadata": {
        "id": "Bnxp7J1yyocz"
      },
      "source": [
        "X = house_train.drop(['SalePrice'],axis=1)\n",
        "y = house_train['SalePrice']"
      ],
      "execution_count": 149,
      "outputs": []
    },
    {
      "cell_type": "code",
      "metadata": {
        "id": "c3BvgMNmyoRf"
      },
      "source": [
        "# Creating our linear regression model for the purpose of comparison\n",
        "# \n",
        "regression=LinearRegression()\n",
        "#regression.fit(X,y)\n",
        "#first_model=(mean_squared_error(y_true=y,y_pred=regression.predict(X)))\n",
        "#print(first_model)"
      ],
      "execution_count": 151,
      "outputs": []
    },
    {
      "cell_type": "markdown",
      "metadata": {
        "id": "FIDC997cqqjr"
      },
      "source": [
        "### <font color=\"green\">Challenge 3</font>"
      ]
    },
    {
      "cell_type": "code",
      "metadata": {
        "id": "GAhV5q8sqgPO"
      },
      "source": [
        "# Challenge 3\n",
        "# ---\n",
        "# Question: Given the medical cost personal dataset, accurately predict insurance cost using a regression model.\n",
        "# ---\n",
        "# Dataset Source = http://bit.ly/https://bit.ly/insurance-_dataset\n",
        "# \n",
        "insurance = pd.read_csv('http://bit.ly/https://bit.ly/insurance-_dataset')\n",
        "insurance.head()"
      ],
      "execution_count": null,
      "outputs": []
    },
    {
      "cell_type": "markdown",
      "metadata": {
        "id": "UWfQDCKZOrYe"
      },
      "source": [
        "### <font color=\"green\">Challenge 4</font>"
      ]
    },
    {
      "cell_type": "code",
      "metadata": {
        "id": "X-2u85NiOwlX"
      },
      "source": [
        "# Challenge 4\n",
        "# ---\n",
        "# Question: Use ElasticNet regression to build a model that is able to accurately predict the profits of a startup.\n",
        "# ---\n",
        "# Dataset Source = http://bit.ly/StartupsDataset\n",
        "# ---\n",
        "# \n",
        "OUR CODE STARTS HERE"
      ],
      "execution_count": null,
      "outputs": []
    },
    {
      "cell_type": "markdown",
      "metadata": {
        "id": "b6lsTHPfPQHR"
      },
      "source": [
        "### <font color=\"green\">Challenge 5</font>"
      ]
    },
    {
      "cell_type": "code",
      "metadata": {
        "id": "go19Edy7PXx7",
        "colab": {
          "base_uri": "https://localhost:8080/",
          "height": 383
        },
        "outputId": "0c94be78-3933-4b60-f73e-a68a0972b6dd"
      },
      "source": [
        "# Challenge 5\n",
        "# ---\n",
        "# Question: Build a prediction model to predict duration for any combination of country,operator, \n",
        "# services and category given the genre,language and number of units. \n",
        "# Apply ElasticNet regression while building your model. \n",
        "# ---\n",
        "# Dataset Source = https://bit.ly/Audio_content_consumption\n",
        "# ---\n",
        "# \n",
        "duration = pd.read_csv('/content/data.csv', encoding='latin')\n",
        "duration.head()"
      ],
      "execution_count": 174,
      "outputs": [
        {
          "output_type": "execute_result",
          "data": {
            "text/html": [
              "<div>\n",
              "<style scoped>\n",
              "    .dataframe tbody tr th:only-of-type {\n",
              "        vertical-align: middle;\n",
              "    }\n",
              "\n",
              "    .dataframe tbody tr th {\n",
              "        vertical-align: top;\n",
              "    }\n",
              "\n",
              "    .dataframe thead th {\n",
              "        text-align: right;\n",
              "    }\n",
              "</style>\n",
              "<table border=\"1\" class=\"dataframe\">\n",
              "  <thead>\n",
              "    <tr style=\"text-align: right;\">\n",
              "      <th></th>\n",
              "      <th>language_name</th>\n",
              "      <th>genre</th>\n",
              "      <th>service</th>\n",
              "      <th>country</th>\n",
              "      <th>mobile_operator</th>\n",
              "      <th>usage_category</th>\n",
              "      <th>number_of_units</th>\n",
              "      <th>duration</th>\n",
              "    </tr>\n",
              "  </thead>\n",
              "  <tbody>\n",
              "    <tr>\n",
              "      <th>0</th>\n",
              "      <td>afrikaans</td>\n",
              "      <td>pop</td>\n",
              "      <td>music on demand</td>\n",
              "      <td>chad</td>\n",
              "      <td>airtel</td>\n",
              "      <td>int</td>\n",
              "      <td>2</td>\n",
              "      <td>9</td>\n",
              "    </tr>\n",
              "    <tr>\n",
              "      <th>1</th>\n",
              "      <td>arabic</td>\n",
              "      <td>inspirational</td>\n",
              "      <td>music on demand</td>\n",
              "      <td>zambia</td>\n",
              "      <td>airtel</td>\n",
              "      <td>ramadanc</td>\n",
              "      <td>3</td>\n",
              "      <td>181</td>\n",
              "    </tr>\n",
              "    <tr>\n",
              "      <th>2</th>\n",
              "      <td>arabic</td>\n",
              "      <td>islamic</td>\n",
              "      <td>music on demand</td>\n",
              "      <td>chad</td>\n",
              "      <td>airtel</td>\n",
              "      <td>islam</td>\n",
              "      <td>61</td>\n",
              "      <td>2102</td>\n",
              "    </tr>\n",
              "    <tr>\n",
              "      <th>3</th>\n",
              "      <td>arabic</td>\n",
              "      <td>islamic</td>\n",
              "      <td>music on demand</td>\n",
              "      <td>chad</td>\n",
              "      <td>airtel</td>\n",
              "      <td>quran</td>\n",
              "      <td>11</td>\n",
              "      <td>179</td>\n",
              "    </tr>\n",
              "    <tr>\n",
              "      <th>4</th>\n",
              "      <td>arabic</td>\n",
              "      <td>world</td>\n",
              "      <td>music on demand</td>\n",
              "      <td>zambia</td>\n",
              "      <td>airtel</td>\n",
              "      <td>ramadanc</td>\n",
              "      <td>3</td>\n",
              "      <td>24</td>\n",
              "    </tr>\n",
              "  </tbody>\n",
              "</table>\n",
              "</div>"
            ],
            "text/plain": [
              "  language_name          genre          service country mobile_operator usage_category  number_of_units  duration\n",
              "0     afrikaans            pop  music on demand    chad          airtel            int                2         9\n",
              "1        arabic  inspirational  music on demand  zambia          airtel       ramadanc                3       181\n",
              "2        arabic        islamic  music on demand    chad          airtel          islam               61      2102\n",
              "3        arabic        islamic  music on demand    chad          airtel          quran               11       179\n",
              "4        arabic          world  music on demand  zambia          airtel       ramadanc                3        24"
            ]
          },
          "metadata": {
            "tags": []
          },
          "execution_count": 174
        }
      ]
    },
    {
      "cell_type": "code",
      "metadata": {
        "colab": {
          "base_uri": "https://localhost:8080/",
          "height": 215
        },
        "id": "tyRm9bt8o4qu",
        "outputId": "50c4f13d-2054-4540-fb28-0c37291f78b9"
      },
      "source": [
        "from sklearn.preprocessing import LabelEncoder\n",
        "categorical_features = ['language_name', 'genre', 'service','country','mobile_operator','usage_category']\n",
        "le = LabelEncoder()\n",
        "\n",
        "# Converting the variables to numerical\n",
        "#\n",
        "for i in range(6):\n",
        "    new = le.fit_transform(duration[categorical_features[i]])\n",
        "    duration[categorical_features[i]] = new\n",
        "duration.head()"
      ],
      "execution_count": 175,
      "outputs": [
        {
          "output_type": "execute_result",
          "data": {
            "text/html": [
              "<div>\n",
              "<style scoped>\n",
              "    .dataframe tbody tr th:only-of-type {\n",
              "        vertical-align: middle;\n",
              "    }\n",
              "\n",
              "    .dataframe tbody tr th {\n",
              "        vertical-align: top;\n",
              "    }\n",
              "\n",
              "    .dataframe thead th {\n",
              "        text-align: right;\n",
              "    }\n",
              "</style>\n",
              "<table border=\"1\" class=\"dataframe\">\n",
              "  <thead>\n",
              "    <tr style=\"text-align: right;\">\n",
              "      <th></th>\n",
              "      <th>language_name</th>\n",
              "      <th>genre</th>\n",
              "      <th>service</th>\n",
              "      <th>country</th>\n",
              "      <th>mobile_operator</th>\n",
              "      <th>usage_category</th>\n",
              "      <th>number_of_units</th>\n",
              "      <th>duration</th>\n",
              "    </tr>\n",
              "  </thead>\n",
              "  <tbody>\n",
              "    <tr>\n",
              "      <th>0</th>\n",
              "      <td>0</td>\n",
              "      <td>48</td>\n",
              "      <td>1</td>\n",
              "      <td>0</td>\n",
              "      <td>0</td>\n",
              "      <td>10</td>\n",
              "      <td>2</td>\n",
              "      <td>9</td>\n",
              "    </tr>\n",
              "    <tr>\n",
              "      <th>1</th>\n",
              "      <td>1</td>\n",
              "      <td>31</td>\n",
              "      <td>1</td>\n",
              "      <td>2</td>\n",
              "      <td>0</td>\n",
              "      <td>21</td>\n",
              "      <td>3</td>\n",
              "      <td>181</td>\n",
              "    </tr>\n",
              "    <tr>\n",
              "      <th>2</th>\n",
              "      <td>1</td>\n",
              "      <td>34</td>\n",
              "      <td>1</td>\n",
              "      <td>0</td>\n",
              "      <td>0</td>\n",
              "      <td>11</td>\n",
              "      <td>61</td>\n",
              "      <td>2102</td>\n",
              "    </tr>\n",
              "    <tr>\n",
              "      <th>3</th>\n",
              "      <td>1</td>\n",
              "      <td>34</td>\n",
              "      <td>1</td>\n",
              "      <td>0</td>\n",
              "      <td>0</td>\n",
              "      <td>20</td>\n",
              "      <td>11</td>\n",
              "      <td>179</td>\n",
              "    </tr>\n",
              "    <tr>\n",
              "      <th>4</th>\n",
              "      <td>1</td>\n",
              "      <td>62</td>\n",
              "      <td>1</td>\n",
              "      <td>2</td>\n",
              "      <td>0</td>\n",
              "      <td>21</td>\n",
              "      <td>3</td>\n",
              "      <td>24</td>\n",
              "    </tr>\n",
              "  </tbody>\n",
              "</table>\n",
              "</div>"
            ],
            "text/plain": [
              "   language_name  genre  service  country  mobile_operator  usage_category  number_of_units  duration\n",
              "0              0     48        1        0                0              10                2         9\n",
              "1              1     31        1        2                0              21                3       181\n",
              "2              1     34        1        0                0              11               61      2102\n",
              "3              1     34        1        0                0              20               11       179\n",
              "4              1     62        1        2                0              21                3        24"
            ]
          },
          "metadata": {
            "tags": []
          },
          "execution_count": 175
        }
      ]
    },
    {
      "cell_type": "code",
      "metadata": {
        "id": "iHZ4Kt6XriSO"
      },
      "source": [
        "X = duration.iloc[:,0:7]\n",
        "y = duration.iloc[:,7]"
      ],
      "execution_count": 176,
      "outputs": []
    },
    {
      "cell_type": "code",
      "metadata": {
        "colab": {
          "base_uri": "https://localhost:8080/",
          "height": 215
        },
        "id": "QsE2fDr2ryGg",
        "outputId": "e1c570b0-1d88-4643-ac14-573220066e5d"
      },
      "source": [
        "X.head()"
      ],
      "execution_count": 177,
      "outputs": [
        {
          "output_type": "execute_result",
          "data": {
            "text/html": [
              "<div>\n",
              "<style scoped>\n",
              "    .dataframe tbody tr th:only-of-type {\n",
              "        vertical-align: middle;\n",
              "    }\n",
              "\n",
              "    .dataframe tbody tr th {\n",
              "        vertical-align: top;\n",
              "    }\n",
              "\n",
              "    .dataframe thead th {\n",
              "        text-align: right;\n",
              "    }\n",
              "</style>\n",
              "<table border=\"1\" class=\"dataframe\">\n",
              "  <thead>\n",
              "    <tr style=\"text-align: right;\">\n",
              "      <th></th>\n",
              "      <th>language_name</th>\n",
              "      <th>genre</th>\n",
              "      <th>service</th>\n",
              "      <th>country</th>\n",
              "      <th>mobile_operator</th>\n",
              "      <th>usage_category</th>\n",
              "      <th>number_of_units</th>\n",
              "    </tr>\n",
              "  </thead>\n",
              "  <tbody>\n",
              "    <tr>\n",
              "      <th>0</th>\n",
              "      <td>0</td>\n",
              "      <td>48</td>\n",
              "      <td>1</td>\n",
              "      <td>0</td>\n",
              "      <td>0</td>\n",
              "      <td>10</td>\n",
              "      <td>2</td>\n",
              "    </tr>\n",
              "    <tr>\n",
              "      <th>1</th>\n",
              "      <td>1</td>\n",
              "      <td>31</td>\n",
              "      <td>1</td>\n",
              "      <td>2</td>\n",
              "      <td>0</td>\n",
              "      <td>21</td>\n",
              "      <td>3</td>\n",
              "    </tr>\n",
              "    <tr>\n",
              "      <th>2</th>\n",
              "      <td>1</td>\n",
              "      <td>34</td>\n",
              "      <td>1</td>\n",
              "      <td>0</td>\n",
              "      <td>0</td>\n",
              "      <td>11</td>\n",
              "      <td>61</td>\n",
              "    </tr>\n",
              "    <tr>\n",
              "      <th>3</th>\n",
              "      <td>1</td>\n",
              "      <td>34</td>\n",
              "      <td>1</td>\n",
              "      <td>0</td>\n",
              "      <td>0</td>\n",
              "      <td>20</td>\n",
              "      <td>11</td>\n",
              "    </tr>\n",
              "    <tr>\n",
              "      <th>4</th>\n",
              "      <td>1</td>\n",
              "      <td>62</td>\n",
              "      <td>1</td>\n",
              "      <td>2</td>\n",
              "      <td>0</td>\n",
              "      <td>21</td>\n",
              "      <td>3</td>\n",
              "    </tr>\n",
              "  </tbody>\n",
              "</table>\n",
              "</div>"
            ],
            "text/plain": [
              "   language_name  genre  service  country  mobile_operator  usage_category  number_of_units\n",
              "0              0     48        1        0                0              10                2\n",
              "1              1     31        1        2                0              21                3\n",
              "2              1     34        1        0                0              11               61\n",
              "3              1     34        1        0                0              20               11\n",
              "4              1     62        1        2                0              21                3"
            ]
          },
          "metadata": {
            "tags": []
          },
          "execution_count": 177
        }
      ]
    },
    {
      "cell_type": "code",
      "metadata": {
        "colab": {
          "base_uri": "https://localhost:8080/"
        },
        "id": "Lsz3Gh5psoGC",
        "outputId": "d915a42d-8340-423c-f8d4-faae8d13eff6"
      },
      "source": [
        "# Creating our linear regression model for the purpose of comparison\n",
        "# \n",
        "regression=LinearRegression()\n",
        "regression.fit(X,y)\n",
        "first_model=(mean_squared_error(y_true=y,y_pred=regression.predict(X)))\n",
        "print(first_model)"
      ],
      "execution_count": 178,
      "outputs": [
        {
          "output_type": "stream",
          "text": [
            "993723097.0287952\n"
          ],
          "name": "stdout"
        }
      ]
    },
    {
      "cell_type": "code",
      "metadata": {
        "colab": {
          "base_uri": "https://localhost:8080/"
        },
        "id": "FlXq13jystPs",
        "outputId": "246573b8-6783-425d-9286-3cee9d2e0101"
      },
      "source": [
        "#coefficients of the first model\n",
        "coef_dict_baseline = {}\n",
        "for coef, feat in zip(regression.coef_,X.columns):\n",
        "    coef_dict_baseline[feat] = coef\n",
        "coef_dict_baseline"
      ],
      "execution_count": 179,
      "outputs": [
        {
          "output_type": "execute_result",
          "data": {
            "text/plain": [
              "{'country': -346.725121908944,\n",
              " 'genre': 100.41628839739809,\n",
              " 'language_name': -55.667724267781836,\n",
              " 'mobile_operator': -39644.494395721966,\n",
              " 'number_of_units': 41.84253902131246,\n",
              " 'service': -39931.18481793762,\n",
              " 'usage_category': 150.23883256371093}"
            ]
          },
          "metadata": {
            "tags": []
          },
          "execution_count": 179
        }
      ]
    },
    {
      "cell_type": "code",
      "metadata": {
        "colab": {
          "base_uri": "https://localhost:8080/"
        },
        "id": "rv2souNPstZZ",
        "outputId": "a3f09e17-88da-4e9a-e756-87e15446ae9c"
      },
      "source": [
        "#Applying elastic model\n",
        "from sklearn.linear_model import ElasticNet\n",
        "from sklearn.model_selection import train_test_split\n",
        "\n",
        "X_train,X_test,y_train,y_test = train_test_split(X,y, test_size=0.2, random_state=0)\n",
        "\n",
        "ENreg = ElasticNet(alpha=1, l1_ratio=0.5, normalize=False)\n",
        "\n",
        "ENreg.fit(X_train,y_train)"
      ],
      "execution_count": 180,
      "outputs": [
        {
          "output_type": "execute_result",
          "data": {
            "text/plain": [
              "ElasticNet(alpha=1, copy_X=True, fit_intercept=True, l1_ratio=0.5,\n",
              "           max_iter=1000, normalize=False, positive=False, precompute=False,\n",
              "           random_state=None, selection='cyclic', tol=0.0001, warm_start=False)"
            ]
          },
          "metadata": {
            "tags": []
          },
          "execution_count": 180
        }
      ]
    },
    {
      "cell_type": "code",
      "metadata": {
        "colab": {
          "base_uri": "https://localhost:8080/"
        },
        "id": "wcuv8Ud8stT9",
        "outputId": "27f77bad-58ab-46cf-af9c-9929ff247aa8"
      },
      "source": [
        "#Making y prediction\n",
        "y_pred = ENreg.predict(X_test)\n",
        "y_pred"
      ],
      "execution_count": 181,
      "outputs": [
        {
          "output_type": "execute_result",
          "data": {
            "text/plain": [
              "array([ -4280.74590281,  -5053.41158887,  13037.9860409 ,   3325.4145027 ,\n",
              "         2054.86149613,  -3563.41387844,  -2030.99921043,   1843.12742294,\n",
              "         3789.4982734 ,    803.85541612,  -2931.03059154,   1150.5965335 ,\n",
              "        21608.72885009,   1537.83948477,   2947.43918616,  -4395.92766107,\n",
              "        11002.91875688,  22671.8395389 ,   -196.88286481,    517.19858052,\n",
              "         -339.19889765,   -441.33326452,  -1197.95948202,   2414.8829387 ,\n",
              "       179868.3410046 ,  26218.87656744,  -3976.44593385, 102537.03227622,\n",
              "        -3147.54550563,  -3351.50028797,   6365.32384542,  -3203.72505104,\n",
              "          917.49719592,  -2081.84821164,  35768.72583691,  -4631.79796941,\n",
              "         -540.93821707,  -1234.16525895,  33119.97586803,  -2857.65504244,\n",
              "        -2224.86866966,  -1813.23634657,   2107.73151893])"
            ]
          },
          "metadata": {
            "tags": []
          },
          "execution_count": 181
        }
      ]
    },
    {
      "cell_type": "code",
      "metadata": {
        "colab": {
          "base_uri": "https://localhost:8080/"
        },
        "id": "a0bBkpbTrzBp",
        "outputId": "44846741-b6b2-4b9a-8578-01c3dbb62a34"
      },
      "source": [
        "#calculating mse\n",
        "\n",
        "mse = np.mean((y_pred - y_test)**2)\n",
        "mse\n"
      ],
      "execution_count": 182,
      "outputs": [
        {
          "output_type": "execute_result",
          "data": {
            "text/plain": [
              "168948618.64337328"
            ]
          },
          "metadata": {
            "tags": []
          },
          "execution_count": 182
        }
      ]
    },
    {
      "cell_type": "code",
      "metadata": {
        "colab": {
          "base_uri": "https://localhost:8080/"
        },
        "id": "0o40YmTTubSc",
        "outputId": "12d0487a-3d18-4741-adf5-16dac1b352b7"
      },
      "source": [
        "#elastic net reg score\n",
        "ENreg.score(X_test,y_test)\n"
      ],
      "execution_count": 183,
      "outputs": [
        {
          "output_type": "execute_result",
          "data": {
            "text/plain": [
              "0.9083290251109398"
            ]
          },
          "metadata": {
            "tags": []
          },
          "execution_count": 183
        }
      ]
    },
    {
      "cell_type": "code",
      "metadata": {
        "colab": {
          "base_uri": "https://localhost:8080/"
        },
        "id": "H7VUI6Sduj1o",
        "outputId": "85bdb99e-e656-4c5f-b917-39c2ba550241"
      },
      "source": [
        "# Below are the coefficients\n",
        "# \n",
        "coef_dict_baseline = {}\n",
        "for coef, feat in zip(elastic.coef_,X.columns):\n",
        "    coef_dict_baseline[feat] = coef\n",
        "coef_dict_baseline"
      ],
      "execution_count": 184,
      "outputs": [
        {
          "output_type": "execute_result",
          "data": {
            "text/plain": [
              "{'country': -34.96377156345572,\n",
              " 'genre': 2.101635296850346,\n",
              " 'language_name': -0.2723425672947244,\n",
              " 'mobile_operator': -532.1245043142961,\n",
              " 'number_of_units': 0.3264399469343557,\n",
              " 'service': 1.2056132072647885,\n",
              " 'usage_category': 38.40044156295092}"
            ]
          },
          "metadata": {
            "tags": []
          },
          "execution_count": 184
        }
      ]
    },
    {
      "cell_type": "code",
      "metadata": {
        "id": "bf7jxiAWAb_u"
      },
      "source": [
        ""
      ],
      "execution_count": 184,
      "outputs": []
    }
  ]
}